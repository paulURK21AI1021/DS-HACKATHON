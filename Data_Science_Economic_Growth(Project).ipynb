{
  "nbformat": 4,
  "nbformat_minor": 0,
  "metadata": {
    "colab": {
      "provenance": []
    },
    "kernelspec": {
      "name": "python3",
      "display_name": "Python 3"
    },
    "language_info": {
      "name": "python"
    }
  },
  "cells": [
    {
      "cell_type": "code",
      "source": [
        "from google.colab import drive\n",
        "drive.mount('/content/drive',force_remount=True)\n",
        "path = \"drive/My Drive/Colab Notebooks/10.csv\"\n",
        "import pandas as pd\n",
        "df=pd.read_csv(path)\n",
        "df"
      ],
      "metadata": {
        "colab": {
          "base_uri": "https://localhost:8080/",
          "height": 737
        },
        "id": "OonpAGDm2tqj",
        "outputId": "264e7fd0-6b94-49de-dbea-5b046666bc60"
      },
      "execution_count": 19,
      "outputs": [
        {
          "output_type": "stream",
          "name": "stdout",
          "text": [
            "Mounted at /content/drive\n"
          ]
        },
        {
          "output_type": "execute_result",
          "data": {
            "text/plain": [
              "    S.No. Name of the State  2019-20 (Rs. in crores)  2020-21 (Rs. in crores)  \\\n",
              "0     1.0    Andhra Pradesh                  7404.42                  8424.72   \n",
              "1     2.0             Bihar                  2535.71                  4117.33   \n",
              "2     3.0      Chhattisgarh                  4628.11                  7193.13   \n",
              "3     4.0           Gujarat                    69.03                     9.24   \n",
              "4     5.0         Karnataka                   205.79                   323.99   \n",
              "5     6.0            Kerala                   469.30                  1214.98   \n",
              "6     7.0    Madhya Pradesh                  8888.39                 11946.44   \n",
              "7     8.0       Maharashtra                  1920.17                  2555.74   \n",
              "8     9.0            Odisha                  5807.45                  8985.73   \n",
              "9    10.0            Punjab                  1612.09                  1761.53   \n",
              "10   11.0         Rajasthan                     0.00                     0.00   \n",
              "11   12.0        Tamil Nadu                  3242.79                  3109.76   \n",
              "12   13.0         Telangana                  4858.89                  6879.59   \n",
              "13   14.0     Uttar Pradesh                     0.00                     0.00   \n",
              "14   15.0       Uttarakhand                   903.12                  1371.33   \n",
              "15   16.0       West Bengal                  2194.86                  8792.03   \n",
              "16   17.0         Jharkhand                     0.00                     3.66   \n",
              "17   18.0           Tripura                     0.00                    29.79   \n",
              "18   19.0               DBT                   204.24                   182.78   \n",
              "19    NaN             Total                 44944.36                 66901.77   \n",
              "\n",
              "    2021-22 (as on 31.03.2022)(Rs. in crores)  \\\n",
              "0                                     9323.38   \n",
              "1                                     7671.90   \n",
              "2                                     9047.77   \n",
              "3                                      749.43   \n",
              "4                                     1682.12   \n",
              "5                                     1777.86   \n",
              "6                                    14420.62   \n",
              "7                                     4082.07   \n",
              "8                                     7892.69   \n",
              "9                                     2047.53   \n",
              "10                                       0.00   \n",
              "11                                    6250.93   \n",
              "12                                    7665.02   \n",
              "13                                       0.00   \n",
              "14                                    1554.43   \n",
              "15                                    5421.34   \n",
              "16                                       0.00   \n",
              "17                                      15.58   \n",
              "18                                     186.87   \n",
              "19                                   79789.54   \n",
              "\n",
              "    2022-23(as on 31.05.2022) (Rs. in crores)  \n",
              "0                                        0.00  \n",
              "1                                        0.00  \n",
              "2                                        0.00  \n",
              "3                                        0.00  \n",
              "4                                        0.00  \n",
              "5                                        0.00  \n",
              "6                                        0.00  \n",
              "7                                        0.00  \n",
              "8                                        0.00  \n",
              "9                                        0.00  \n",
              "10                                       0.00  \n",
              "11                                       0.00  \n",
              "12                                       0.00  \n",
              "13                                       0.00  \n",
              "14                                       0.00  \n",
              "15                                       0.00  \n",
              "16                                       0.00  \n",
              "17                                       0.00  \n",
              "18                                      20.32  \n",
              "19                                      20.32  "
            ],
            "text/html": [
              "\n",
              "  <div id=\"df-7628d6e6-acac-4d8c-9846-1db2c2204e42\">\n",
              "    <div class=\"colab-df-container\">\n",
              "      <div>\n",
              "<style scoped>\n",
              "    .dataframe tbody tr th:only-of-type {\n",
              "        vertical-align: middle;\n",
              "    }\n",
              "\n",
              "    .dataframe tbody tr th {\n",
              "        vertical-align: top;\n",
              "    }\n",
              "\n",
              "    .dataframe thead th {\n",
              "        text-align: right;\n",
              "    }\n",
              "</style>\n",
              "<table border=\"1\" class=\"dataframe\">\n",
              "  <thead>\n",
              "    <tr style=\"text-align: right;\">\n",
              "      <th></th>\n",
              "      <th>S.No.</th>\n",
              "      <th>Name of the State</th>\n",
              "      <th>2019-20 (Rs. in crores)</th>\n",
              "      <th>2020-21 (Rs. in crores)</th>\n",
              "      <th>2021-22 (as on 31.03.2022)(Rs. in crores)</th>\n",
              "      <th>2022-23(as on 31.05.2022) (Rs. in crores)</th>\n",
              "    </tr>\n",
              "  </thead>\n",
              "  <tbody>\n",
              "    <tr>\n",
              "      <th>0</th>\n",
              "      <td>1.0</td>\n",
              "      <td>Andhra Pradesh</td>\n",
              "      <td>7404.42</td>\n",
              "      <td>8424.72</td>\n",
              "      <td>9323.38</td>\n",
              "      <td>0.00</td>\n",
              "    </tr>\n",
              "    <tr>\n",
              "      <th>1</th>\n",
              "      <td>2.0</td>\n",
              "      <td>Bihar</td>\n",
              "      <td>2535.71</td>\n",
              "      <td>4117.33</td>\n",
              "      <td>7671.90</td>\n",
              "      <td>0.00</td>\n",
              "    </tr>\n",
              "    <tr>\n",
              "      <th>2</th>\n",
              "      <td>3.0</td>\n",
              "      <td>Chhattisgarh</td>\n",
              "      <td>4628.11</td>\n",
              "      <td>7193.13</td>\n",
              "      <td>9047.77</td>\n",
              "      <td>0.00</td>\n",
              "    </tr>\n",
              "    <tr>\n",
              "      <th>3</th>\n",
              "      <td>4.0</td>\n",
              "      <td>Gujarat</td>\n",
              "      <td>69.03</td>\n",
              "      <td>9.24</td>\n",
              "      <td>749.43</td>\n",
              "      <td>0.00</td>\n",
              "    </tr>\n",
              "    <tr>\n",
              "      <th>4</th>\n",
              "      <td>5.0</td>\n",
              "      <td>Karnataka</td>\n",
              "      <td>205.79</td>\n",
              "      <td>323.99</td>\n",
              "      <td>1682.12</td>\n",
              "      <td>0.00</td>\n",
              "    </tr>\n",
              "    <tr>\n",
              "      <th>5</th>\n",
              "      <td>6.0</td>\n",
              "      <td>Kerala</td>\n",
              "      <td>469.30</td>\n",
              "      <td>1214.98</td>\n",
              "      <td>1777.86</td>\n",
              "      <td>0.00</td>\n",
              "    </tr>\n",
              "    <tr>\n",
              "      <th>6</th>\n",
              "      <td>7.0</td>\n",
              "      <td>Madhya Pradesh</td>\n",
              "      <td>8888.39</td>\n",
              "      <td>11946.44</td>\n",
              "      <td>14420.62</td>\n",
              "      <td>0.00</td>\n",
              "    </tr>\n",
              "    <tr>\n",
              "      <th>7</th>\n",
              "      <td>8.0</td>\n",
              "      <td>Maharashtra</td>\n",
              "      <td>1920.17</td>\n",
              "      <td>2555.74</td>\n",
              "      <td>4082.07</td>\n",
              "      <td>0.00</td>\n",
              "    </tr>\n",
              "    <tr>\n",
              "      <th>8</th>\n",
              "      <td>9.0</td>\n",
              "      <td>Odisha</td>\n",
              "      <td>5807.45</td>\n",
              "      <td>8985.73</td>\n",
              "      <td>7892.69</td>\n",
              "      <td>0.00</td>\n",
              "    </tr>\n",
              "    <tr>\n",
              "      <th>9</th>\n",
              "      <td>10.0</td>\n",
              "      <td>Punjab</td>\n",
              "      <td>1612.09</td>\n",
              "      <td>1761.53</td>\n",
              "      <td>2047.53</td>\n",
              "      <td>0.00</td>\n",
              "    </tr>\n",
              "    <tr>\n",
              "      <th>10</th>\n",
              "      <td>11.0</td>\n",
              "      <td>Rajasthan</td>\n",
              "      <td>0.00</td>\n",
              "      <td>0.00</td>\n",
              "      <td>0.00</td>\n",
              "      <td>0.00</td>\n",
              "    </tr>\n",
              "    <tr>\n",
              "      <th>11</th>\n",
              "      <td>12.0</td>\n",
              "      <td>Tamil Nadu</td>\n",
              "      <td>3242.79</td>\n",
              "      <td>3109.76</td>\n",
              "      <td>6250.93</td>\n",
              "      <td>0.00</td>\n",
              "    </tr>\n",
              "    <tr>\n",
              "      <th>12</th>\n",
              "      <td>13.0</td>\n",
              "      <td>Telangana</td>\n",
              "      <td>4858.89</td>\n",
              "      <td>6879.59</td>\n",
              "      <td>7665.02</td>\n",
              "      <td>0.00</td>\n",
              "    </tr>\n",
              "    <tr>\n",
              "      <th>13</th>\n",
              "      <td>14.0</td>\n",
              "      <td>Uttar Pradesh</td>\n",
              "      <td>0.00</td>\n",
              "      <td>0.00</td>\n",
              "      <td>0.00</td>\n",
              "      <td>0.00</td>\n",
              "    </tr>\n",
              "    <tr>\n",
              "      <th>14</th>\n",
              "      <td>15.0</td>\n",
              "      <td>Uttarakhand</td>\n",
              "      <td>903.12</td>\n",
              "      <td>1371.33</td>\n",
              "      <td>1554.43</td>\n",
              "      <td>0.00</td>\n",
              "    </tr>\n",
              "    <tr>\n",
              "      <th>15</th>\n",
              "      <td>16.0</td>\n",
              "      <td>West Bengal</td>\n",
              "      <td>2194.86</td>\n",
              "      <td>8792.03</td>\n",
              "      <td>5421.34</td>\n",
              "      <td>0.00</td>\n",
              "    </tr>\n",
              "    <tr>\n",
              "      <th>16</th>\n",
              "      <td>17.0</td>\n",
              "      <td>Jharkhand</td>\n",
              "      <td>0.00</td>\n",
              "      <td>3.66</td>\n",
              "      <td>0.00</td>\n",
              "      <td>0.00</td>\n",
              "    </tr>\n",
              "    <tr>\n",
              "      <th>17</th>\n",
              "      <td>18.0</td>\n",
              "      <td>Tripura</td>\n",
              "      <td>0.00</td>\n",
              "      <td>29.79</td>\n",
              "      <td>15.58</td>\n",
              "      <td>0.00</td>\n",
              "    </tr>\n",
              "    <tr>\n",
              "      <th>18</th>\n",
              "      <td>19.0</td>\n",
              "      <td>DBT</td>\n",
              "      <td>204.24</td>\n",
              "      <td>182.78</td>\n",
              "      <td>186.87</td>\n",
              "      <td>20.32</td>\n",
              "    </tr>\n",
              "    <tr>\n",
              "      <th>19</th>\n",
              "      <td>NaN</td>\n",
              "      <td>Total</td>\n",
              "      <td>44944.36</td>\n",
              "      <td>66901.77</td>\n",
              "      <td>79789.54</td>\n",
              "      <td>20.32</td>\n",
              "    </tr>\n",
              "  </tbody>\n",
              "</table>\n",
              "</div>\n",
              "      <button class=\"colab-df-convert\" onclick=\"convertToInteractive('df-7628d6e6-acac-4d8c-9846-1db2c2204e42')\"\n",
              "              title=\"Convert this dataframe to an interactive table.\"\n",
              "              style=\"display:none;\">\n",
              "        \n",
              "  <svg xmlns=\"http://www.w3.org/2000/svg\" height=\"24px\"viewBox=\"0 0 24 24\"\n",
              "       width=\"24px\">\n",
              "    <path d=\"M0 0h24v24H0V0z\" fill=\"none\"/>\n",
              "    <path d=\"M18.56 5.44l.94 2.06.94-2.06 2.06-.94-2.06-.94-.94-2.06-.94 2.06-2.06.94zm-11 1L8.5 8.5l.94-2.06 2.06-.94-2.06-.94L8.5 2.5l-.94 2.06-2.06.94zm10 10l.94 2.06.94-2.06 2.06-.94-2.06-.94-.94-2.06-.94 2.06-2.06.94z\"/><path d=\"M17.41 7.96l-1.37-1.37c-.4-.4-.92-.59-1.43-.59-.52 0-1.04.2-1.43.59L10.3 9.45l-7.72 7.72c-.78.78-.78 2.05 0 2.83L4 21.41c.39.39.9.59 1.41.59.51 0 1.02-.2 1.41-.59l7.78-7.78 2.81-2.81c.8-.78.8-2.07 0-2.86zM5.41 20L4 18.59l7.72-7.72 1.47 1.35L5.41 20z\"/>\n",
              "  </svg>\n",
              "      </button>\n",
              "      \n",
              "  <style>\n",
              "    .colab-df-container {\n",
              "      display:flex;\n",
              "      flex-wrap:wrap;\n",
              "      gap: 12px;\n",
              "    }\n",
              "\n",
              "    .colab-df-convert {\n",
              "      background-color: #E8F0FE;\n",
              "      border: none;\n",
              "      border-radius: 50%;\n",
              "      cursor: pointer;\n",
              "      display: none;\n",
              "      fill: #1967D2;\n",
              "      height: 32px;\n",
              "      padding: 0 0 0 0;\n",
              "      width: 32px;\n",
              "    }\n",
              "\n",
              "    .colab-df-convert:hover {\n",
              "      background-color: #E2EBFA;\n",
              "      box-shadow: 0px 1px 2px rgba(60, 64, 67, 0.3), 0px 1px 3px 1px rgba(60, 64, 67, 0.15);\n",
              "      fill: #174EA6;\n",
              "    }\n",
              "\n",
              "    [theme=dark] .colab-df-convert {\n",
              "      background-color: #3B4455;\n",
              "      fill: #D2E3FC;\n",
              "    }\n",
              "\n",
              "    [theme=dark] .colab-df-convert:hover {\n",
              "      background-color: #434B5C;\n",
              "      box-shadow: 0px 1px 3px 1px rgba(0, 0, 0, 0.15);\n",
              "      filter: drop-shadow(0px 1px 2px rgba(0, 0, 0, 0.3));\n",
              "      fill: #FFFFFF;\n",
              "    }\n",
              "  </style>\n",
              "\n",
              "      <script>\n",
              "        const buttonEl =\n",
              "          document.querySelector('#df-7628d6e6-acac-4d8c-9846-1db2c2204e42 button.colab-df-convert');\n",
              "        buttonEl.style.display =\n",
              "          google.colab.kernel.accessAllowed ? 'block' : 'none';\n",
              "\n",
              "        async function convertToInteractive(key) {\n",
              "          const element = document.querySelector('#df-7628d6e6-acac-4d8c-9846-1db2c2204e42');\n",
              "          const dataTable =\n",
              "            await google.colab.kernel.invokeFunction('convertToInteractive',\n",
              "                                                     [key], {});\n",
              "          if (!dataTable) return;\n",
              "\n",
              "          const docLinkHtml = 'Like what you see? Visit the ' +\n",
              "            '<a target=\"_blank\" href=https://colab.research.google.com/notebooks/data_table.ipynb>data table notebook</a>'\n",
              "            + ' to learn more about interactive tables.';\n",
              "          element.innerHTML = '';\n",
              "          dataTable['output_type'] = 'display_data';\n",
              "          await google.colab.output.renderOutput(dataTable, element);\n",
              "          const docLink = document.createElement('div');\n",
              "          docLink.innerHTML = docLinkHtml;\n",
              "          element.appendChild(docLink);\n",
              "        }\n",
              "      </script>\n",
              "    </div>\n",
              "  </div>\n",
              "  "
            ]
          },
          "metadata": {},
          "execution_count": 19
        }
      ]
    },
    {
      "cell_type": "markdown",
      "source": [
        "# **Program:**\n",
        "**1.** To read all the values."
      ],
      "metadata": {
        "id": "Or20ICUIpgBo"
      }
    },
    {
      "cell_type": "code",
      "source": [
        "print(df.to_string())"
      ],
      "metadata": {
        "colab": {
          "base_uri": "https://localhost:8080/"
        },
        "id": "PCIcYlJmpqQp",
        "outputId": "8101994b-c875-43d4-f9c3-6358e6e6c1bb"
      },
      "execution_count": null,
      "outputs": [
        {
          "output_type": "stream",
          "name": "stdout",
          "text": [
            "    S.No. Name of the State  2019-20 (Rs. in crores)  2020-21 (Rs. in crores)  2021-22 (as on 31.03.2022)(Rs. in crores)  2022-23(as on 31.05.2022) (Rs. in crores)\n",
            "0     1.0    Andhra Pradesh                  7404.42                  8424.72                                    9323.38                                       0.00\n",
            "1     2.0             Bihar                  2535.71                  4117.33                                    7671.90                                       0.00\n",
            "2     3.0      Chhattisgarh                  4628.11                  7193.13                                    9047.77                                       0.00\n",
            "3     4.0           Gujarat                    69.03                     9.24                                     749.43                                       0.00\n",
            "4     5.0         Karnataka                   205.79                   323.99                                    1682.12                                       0.00\n",
            "5     6.0            Kerala                   469.30                  1214.98                                    1777.86                                       0.00\n",
            "6     7.0    Madhya Pradesh                  8888.39                 11946.44                                   14420.62                                       0.00\n",
            "7     8.0       Maharashtra                  1920.17                  2555.74                                    4082.07                                       0.00\n",
            "8     9.0            Odisha                  5807.45                  8985.73                                    7892.69                                       0.00\n",
            "9    10.0            Punjab                  1612.09                  1761.53                                    2047.53                                       0.00\n",
            "10   11.0         Rajasthan                     0.00                     0.00                                       0.00                                       0.00\n",
            "11   12.0        Tamil Nadu                  3242.79                  3109.76                                    6250.93                                       0.00\n",
            "12   13.0         Telangana                  4858.89                  6879.59                                    7665.02                                       0.00\n",
            "13   14.0     Uttar Pradesh                     0.00                     0.00                                       0.00                                       0.00\n",
            "14   15.0       Uttarakhand                   903.12                  1371.33                                    1554.43                                       0.00\n",
            "15   16.0       West Bengal                  2194.86                  8792.03                                    5421.34                                       0.00\n",
            "16   17.0         Jharkhand                     0.00                     3.66                                       0.00                                       0.00\n",
            "17   18.0           Tripura                     0.00                    29.79                                      15.58                                       0.00\n",
            "18   19.0               DBT                   204.24                   182.78                                     186.87                                      20.32\n",
            "19    NaN             Total                 44944.36                 66901.77                                   79789.54                                      20.32\n"
          ]
        }
      ]
    },
    {
      "cell_type": "markdown",
      "source": [
        "**2.** To read the first 5 rows."
      ],
      "metadata": {
        "id": "VxM32y0EqcVv"
      }
    },
    {
      "cell_type": "code",
      "source": [
        "df.head(5)"
      ],
      "metadata": {
        "colab": {
          "base_uri": "https://localhost:8080/",
          "height": 206
        },
        "id": "OfJiMYHep7Yb",
        "outputId": "92a546e1-278c-4d25-f6c8-3852a380d000"
      },
      "execution_count": null,
      "outputs": [
        {
          "output_type": "execute_result",
          "data": {
            "text/plain": [
              "   S.No. Name of the State  2019-20 (Rs. in crores)  2020-21 (Rs. in crores)  \\\n",
              "0    1.0    Andhra Pradesh                  7404.42                  8424.72   \n",
              "1    2.0             Bihar                  2535.71                  4117.33   \n",
              "2    3.0      Chhattisgarh                  4628.11                  7193.13   \n",
              "3    4.0           Gujarat                    69.03                     9.24   \n",
              "4    5.0         Karnataka                   205.79                   323.99   \n",
              "\n",
              "   2021-22 (as on 31.03.2022)(Rs. in crores)  \\\n",
              "0                                    9323.38   \n",
              "1                                    7671.90   \n",
              "2                                    9047.77   \n",
              "3                                     749.43   \n",
              "4                                    1682.12   \n",
              "\n",
              "   2022-23(as on 31.05.2022) (Rs. in crores)  \n",
              "0                                        0.0  \n",
              "1                                        0.0  \n",
              "2                                        0.0  \n",
              "3                                        0.0  \n",
              "4                                        0.0  "
            ],
            "text/html": [
              "\n",
              "  <div id=\"df-fd190171-0e82-4703-af4b-c7d33a8734d4\">\n",
              "    <div class=\"colab-df-container\">\n",
              "      <div>\n",
              "<style scoped>\n",
              "    .dataframe tbody tr th:only-of-type {\n",
              "        vertical-align: middle;\n",
              "    }\n",
              "\n",
              "    .dataframe tbody tr th {\n",
              "        vertical-align: top;\n",
              "    }\n",
              "\n",
              "    .dataframe thead th {\n",
              "        text-align: right;\n",
              "    }\n",
              "</style>\n",
              "<table border=\"1\" class=\"dataframe\">\n",
              "  <thead>\n",
              "    <tr style=\"text-align: right;\">\n",
              "      <th></th>\n",
              "      <th>S.No.</th>\n",
              "      <th>Name of the State</th>\n",
              "      <th>2019-20 (Rs. in crores)</th>\n",
              "      <th>2020-21 (Rs. in crores)</th>\n",
              "      <th>2021-22 (as on 31.03.2022)(Rs. in crores)</th>\n",
              "      <th>2022-23(as on 31.05.2022) (Rs. in crores)</th>\n",
              "    </tr>\n",
              "  </thead>\n",
              "  <tbody>\n",
              "    <tr>\n",
              "      <th>0</th>\n",
              "      <td>1.0</td>\n",
              "      <td>Andhra Pradesh</td>\n",
              "      <td>7404.42</td>\n",
              "      <td>8424.72</td>\n",
              "      <td>9323.38</td>\n",
              "      <td>0.0</td>\n",
              "    </tr>\n",
              "    <tr>\n",
              "      <th>1</th>\n",
              "      <td>2.0</td>\n",
              "      <td>Bihar</td>\n",
              "      <td>2535.71</td>\n",
              "      <td>4117.33</td>\n",
              "      <td>7671.90</td>\n",
              "      <td>0.0</td>\n",
              "    </tr>\n",
              "    <tr>\n",
              "      <th>2</th>\n",
              "      <td>3.0</td>\n",
              "      <td>Chhattisgarh</td>\n",
              "      <td>4628.11</td>\n",
              "      <td>7193.13</td>\n",
              "      <td>9047.77</td>\n",
              "      <td>0.0</td>\n",
              "    </tr>\n",
              "    <tr>\n",
              "      <th>3</th>\n",
              "      <td>4.0</td>\n",
              "      <td>Gujarat</td>\n",
              "      <td>69.03</td>\n",
              "      <td>9.24</td>\n",
              "      <td>749.43</td>\n",
              "      <td>0.0</td>\n",
              "    </tr>\n",
              "    <tr>\n",
              "      <th>4</th>\n",
              "      <td>5.0</td>\n",
              "      <td>Karnataka</td>\n",
              "      <td>205.79</td>\n",
              "      <td>323.99</td>\n",
              "      <td>1682.12</td>\n",
              "      <td>0.0</td>\n",
              "    </tr>\n",
              "  </tbody>\n",
              "</table>\n",
              "</div>\n",
              "      <button class=\"colab-df-convert\" onclick=\"convertToInteractive('df-fd190171-0e82-4703-af4b-c7d33a8734d4')\"\n",
              "              title=\"Convert this dataframe to an interactive table.\"\n",
              "              style=\"display:none;\">\n",
              "        \n",
              "  <svg xmlns=\"http://www.w3.org/2000/svg\" height=\"24px\"viewBox=\"0 0 24 24\"\n",
              "       width=\"24px\">\n",
              "    <path d=\"M0 0h24v24H0V0z\" fill=\"none\"/>\n",
              "    <path d=\"M18.56 5.44l.94 2.06.94-2.06 2.06-.94-2.06-.94-.94-2.06-.94 2.06-2.06.94zm-11 1L8.5 8.5l.94-2.06 2.06-.94-2.06-.94L8.5 2.5l-.94 2.06-2.06.94zm10 10l.94 2.06.94-2.06 2.06-.94-2.06-.94-.94-2.06-.94 2.06-2.06.94z\"/><path d=\"M17.41 7.96l-1.37-1.37c-.4-.4-.92-.59-1.43-.59-.52 0-1.04.2-1.43.59L10.3 9.45l-7.72 7.72c-.78.78-.78 2.05 0 2.83L4 21.41c.39.39.9.59 1.41.59.51 0 1.02-.2 1.41-.59l7.78-7.78 2.81-2.81c.8-.78.8-2.07 0-2.86zM5.41 20L4 18.59l7.72-7.72 1.47 1.35L5.41 20z\"/>\n",
              "  </svg>\n",
              "      </button>\n",
              "      \n",
              "  <style>\n",
              "    .colab-df-container {\n",
              "      display:flex;\n",
              "      flex-wrap:wrap;\n",
              "      gap: 12px;\n",
              "    }\n",
              "\n",
              "    .colab-df-convert {\n",
              "      background-color: #E8F0FE;\n",
              "      border: none;\n",
              "      border-radius: 50%;\n",
              "      cursor: pointer;\n",
              "      display: none;\n",
              "      fill: #1967D2;\n",
              "      height: 32px;\n",
              "      padding: 0 0 0 0;\n",
              "      width: 32px;\n",
              "    }\n",
              "\n",
              "    .colab-df-convert:hover {\n",
              "      background-color: #E2EBFA;\n",
              "      box-shadow: 0px 1px 2px rgba(60, 64, 67, 0.3), 0px 1px 3px 1px rgba(60, 64, 67, 0.15);\n",
              "      fill: #174EA6;\n",
              "    }\n",
              "\n",
              "    [theme=dark] .colab-df-convert {\n",
              "      background-color: #3B4455;\n",
              "      fill: #D2E3FC;\n",
              "    }\n",
              "\n",
              "    [theme=dark] .colab-df-convert:hover {\n",
              "      background-color: #434B5C;\n",
              "      box-shadow: 0px 1px 3px 1px rgba(0, 0, 0, 0.15);\n",
              "      filter: drop-shadow(0px 1px 2px rgba(0, 0, 0, 0.3));\n",
              "      fill: #FFFFFF;\n",
              "    }\n",
              "  </style>\n",
              "\n",
              "      <script>\n",
              "        const buttonEl =\n",
              "          document.querySelector('#df-fd190171-0e82-4703-af4b-c7d33a8734d4 button.colab-df-convert');\n",
              "        buttonEl.style.display =\n",
              "          google.colab.kernel.accessAllowed ? 'block' : 'none';\n",
              "\n",
              "        async function convertToInteractive(key) {\n",
              "          const element = document.querySelector('#df-fd190171-0e82-4703-af4b-c7d33a8734d4');\n",
              "          const dataTable =\n",
              "            await google.colab.kernel.invokeFunction('convertToInteractive',\n",
              "                                                     [key], {});\n",
              "          if (!dataTable) return;\n",
              "\n",
              "          const docLinkHtml = 'Like what you see? Visit the ' +\n",
              "            '<a target=\"_blank\" href=https://colab.research.google.com/notebooks/data_table.ipynb>data table notebook</a>'\n",
              "            + ' to learn more about interactive tables.';\n",
              "          element.innerHTML = '';\n",
              "          dataTable['output_type'] = 'display_data';\n",
              "          await google.colab.output.renderOutput(dataTable, element);\n",
              "          const docLink = document.createElement('div');\n",
              "          docLink.innerHTML = docLinkHtml;\n",
              "          element.appendChild(docLink);\n",
              "        }\n",
              "      </script>\n",
              "    </div>\n",
              "  </div>\n",
              "  "
            ]
          },
          "metadata": {},
          "execution_count": 9
        }
      ]
    },
    {
      "cell_type": "markdown",
      "source": [
        "**3.** To read the last 5 rows."
      ],
      "metadata": {
        "id": "00K3RLUEqtZ3"
      }
    },
    {
      "cell_type": "code",
      "source": [
        "df.tail(5)"
      ],
      "metadata": {
        "colab": {
          "base_uri": "https://localhost:8080/",
          "height": 206
        },
        "id": "65luDPF4rXxe",
        "outputId": "d910658d-0329-4ae3-96f0-6f83b807d011"
      },
      "execution_count": null,
      "outputs": [
        {
          "output_type": "execute_result",
          "data": {
            "text/plain": [
              "    S.No. Name of the State  2019-20 (Rs. in crores)  2020-21 (Rs. in crores)  \\\n",
              "15   16.0       West Bengal                  2194.86                  8792.03   \n",
              "16   17.0         Jharkhand                     0.00                     3.66   \n",
              "17   18.0           Tripura                     0.00                    29.79   \n",
              "18   19.0               DBT                   204.24                   182.78   \n",
              "19    NaN             Total                 44944.36                 66901.77   \n",
              "\n",
              "    2021-22 (as on 31.03.2022)(Rs. in crores)  \\\n",
              "15                                    5421.34   \n",
              "16                                       0.00   \n",
              "17                                      15.58   \n",
              "18                                     186.87   \n",
              "19                                   79789.54   \n",
              "\n",
              "    2022-23(as on 31.05.2022) (Rs. in crores)  \n",
              "15                                       0.00  \n",
              "16                                       0.00  \n",
              "17                                       0.00  \n",
              "18                                      20.32  \n",
              "19                                      20.32  "
            ],
            "text/html": [
              "\n",
              "  <div id=\"df-bafff209-3c19-4bcd-bed7-12bc96957c48\">\n",
              "    <div class=\"colab-df-container\">\n",
              "      <div>\n",
              "<style scoped>\n",
              "    .dataframe tbody tr th:only-of-type {\n",
              "        vertical-align: middle;\n",
              "    }\n",
              "\n",
              "    .dataframe tbody tr th {\n",
              "        vertical-align: top;\n",
              "    }\n",
              "\n",
              "    .dataframe thead th {\n",
              "        text-align: right;\n",
              "    }\n",
              "</style>\n",
              "<table border=\"1\" class=\"dataframe\">\n",
              "  <thead>\n",
              "    <tr style=\"text-align: right;\">\n",
              "      <th></th>\n",
              "      <th>S.No.</th>\n",
              "      <th>Name of the State</th>\n",
              "      <th>2019-20 (Rs. in crores)</th>\n",
              "      <th>2020-21 (Rs. in crores)</th>\n",
              "      <th>2021-22 (as on 31.03.2022)(Rs. in crores)</th>\n",
              "      <th>2022-23(as on 31.05.2022) (Rs. in crores)</th>\n",
              "    </tr>\n",
              "  </thead>\n",
              "  <tbody>\n",
              "    <tr>\n",
              "      <th>15</th>\n",
              "      <td>16.0</td>\n",
              "      <td>West Bengal</td>\n",
              "      <td>2194.86</td>\n",
              "      <td>8792.03</td>\n",
              "      <td>5421.34</td>\n",
              "      <td>0.00</td>\n",
              "    </tr>\n",
              "    <tr>\n",
              "      <th>16</th>\n",
              "      <td>17.0</td>\n",
              "      <td>Jharkhand</td>\n",
              "      <td>0.00</td>\n",
              "      <td>3.66</td>\n",
              "      <td>0.00</td>\n",
              "      <td>0.00</td>\n",
              "    </tr>\n",
              "    <tr>\n",
              "      <th>17</th>\n",
              "      <td>18.0</td>\n",
              "      <td>Tripura</td>\n",
              "      <td>0.00</td>\n",
              "      <td>29.79</td>\n",
              "      <td>15.58</td>\n",
              "      <td>0.00</td>\n",
              "    </tr>\n",
              "    <tr>\n",
              "      <th>18</th>\n",
              "      <td>19.0</td>\n",
              "      <td>DBT</td>\n",
              "      <td>204.24</td>\n",
              "      <td>182.78</td>\n",
              "      <td>186.87</td>\n",
              "      <td>20.32</td>\n",
              "    </tr>\n",
              "    <tr>\n",
              "      <th>19</th>\n",
              "      <td>NaN</td>\n",
              "      <td>Total</td>\n",
              "      <td>44944.36</td>\n",
              "      <td>66901.77</td>\n",
              "      <td>79789.54</td>\n",
              "      <td>20.32</td>\n",
              "    </tr>\n",
              "  </tbody>\n",
              "</table>\n",
              "</div>\n",
              "      <button class=\"colab-df-convert\" onclick=\"convertToInteractive('df-bafff209-3c19-4bcd-bed7-12bc96957c48')\"\n",
              "              title=\"Convert this dataframe to an interactive table.\"\n",
              "              style=\"display:none;\">\n",
              "        \n",
              "  <svg xmlns=\"http://www.w3.org/2000/svg\" height=\"24px\"viewBox=\"0 0 24 24\"\n",
              "       width=\"24px\">\n",
              "    <path d=\"M0 0h24v24H0V0z\" fill=\"none\"/>\n",
              "    <path d=\"M18.56 5.44l.94 2.06.94-2.06 2.06-.94-2.06-.94-.94-2.06-.94 2.06-2.06.94zm-11 1L8.5 8.5l.94-2.06 2.06-.94-2.06-.94L8.5 2.5l-.94 2.06-2.06.94zm10 10l.94 2.06.94-2.06 2.06-.94-2.06-.94-.94-2.06-.94 2.06-2.06.94z\"/><path d=\"M17.41 7.96l-1.37-1.37c-.4-.4-.92-.59-1.43-.59-.52 0-1.04.2-1.43.59L10.3 9.45l-7.72 7.72c-.78.78-.78 2.05 0 2.83L4 21.41c.39.39.9.59 1.41.59.51 0 1.02-.2 1.41-.59l7.78-7.78 2.81-2.81c.8-.78.8-2.07 0-2.86zM5.41 20L4 18.59l7.72-7.72 1.47 1.35L5.41 20z\"/>\n",
              "  </svg>\n",
              "      </button>\n",
              "      \n",
              "  <style>\n",
              "    .colab-df-container {\n",
              "      display:flex;\n",
              "      flex-wrap:wrap;\n",
              "      gap: 12px;\n",
              "    }\n",
              "\n",
              "    .colab-df-convert {\n",
              "      background-color: #E8F0FE;\n",
              "      border: none;\n",
              "      border-radius: 50%;\n",
              "      cursor: pointer;\n",
              "      display: none;\n",
              "      fill: #1967D2;\n",
              "      height: 32px;\n",
              "      padding: 0 0 0 0;\n",
              "      width: 32px;\n",
              "    }\n",
              "\n",
              "    .colab-df-convert:hover {\n",
              "      background-color: #E2EBFA;\n",
              "      box-shadow: 0px 1px 2px rgba(60, 64, 67, 0.3), 0px 1px 3px 1px rgba(60, 64, 67, 0.15);\n",
              "      fill: #174EA6;\n",
              "    }\n",
              "\n",
              "    [theme=dark] .colab-df-convert {\n",
              "      background-color: #3B4455;\n",
              "      fill: #D2E3FC;\n",
              "    }\n",
              "\n",
              "    [theme=dark] .colab-df-convert:hover {\n",
              "      background-color: #434B5C;\n",
              "      box-shadow: 0px 1px 3px 1px rgba(0, 0, 0, 0.15);\n",
              "      filter: drop-shadow(0px 1px 2px rgba(0, 0, 0, 0.3));\n",
              "      fill: #FFFFFF;\n",
              "    }\n",
              "  </style>\n",
              "\n",
              "      <script>\n",
              "        const buttonEl =\n",
              "          document.querySelector('#df-bafff209-3c19-4bcd-bed7-12bc96957c48 button.colab-df-convert');\n",
              "        buttonEl.style.display =\n",
              "          google.colab.kernel.accessAllowed ? 'block' : 'none';\n",
              "\n",
              "        async function convertToInteractive(key) {\n",
              "          const element = document.querySelector('#df-bafff209-3c19-4bcd-bed7-12bc96957c48');\n",
              "          const dataTable =\n",
              "            await google.colab.kernel.invokeFunction('convertToInteractive',\n",
              "                                                     [key], {});\n",
              "          if (!dataTable) return;\n",
              "\n",
              "          const docLinkHtml = 'Like what you see? Visit the ' +\n",
              "            '<a target=\"_blank\" href=https://colab.research.google.com/notebooks/data_table.ipynb>data table notebook</a>'\n",
              "            + ' to learn more about interactive tables.';\n",
              "          element.innerHTML = '';\n",
              "          dataTable['output_type'] = 'display_data';\n",
              "          await google.colab.output.renderOutput(dataTable, element);\n",
              "          const docLink = document.createElement('div');\n",
              "          docLink.innerHTML = docLinkHtml;\n",
              "          element.appendChild(docLink);\n",
              "        }\n",
              "      </script>\n",
              "    </div>\n",
              "  </div>\n",
              "  "
            ]
          },
          "metadata": {},
          "execution_count": 10
        }
      ]
    },
    {
      "cell_type": "markdown",
      "source": [
        "**4.** To display the Range of the index."
      ],
      "metadata": {
        "id": "HiqK0lfhrllT"
      }
    },
    {
      "cell_type": "code",
      "source": [
        "df.index"
      ],
      "metadata": {
        "colab": {
          "base_uri": "https://localhost:8080/"
        },
        "id": "MG0KeOucrrEA",
        "outputId": "207b6a5b-6887-4d45-e4f6-2982b345bc53"
      },
      "execution_count": null,
      "outputs": [
        {
          "output_type": "execute_result",
          "data": {
            "text/plain": [
              "RangeIndex(start=0, stop=20, step=1)"
            ]
          },
          "metadata": {},
          "execution_count": 13
        }
      ]
    },
    {
      "cell_type": "markdown",
      "source": [
        "**5.** To display the Column name of the dataset."
      ],
      "metadata": {
        "id": "nlPVTcFzr-7V"
      }
    },
    {
      "cell_type": "code",
      "source": [
        "df.columns"
      ],
      "metadata": {
        "colab": {
          "base_uri": "https://localhost:8080/"
        },
        "id": "LD8xpGahsehO",
        "outputId": "c35d5c7a-df20-4f23-aeb7-ceec25abc89d"
      },
      "execution_count": null,
      "outputs": [
        {
          "output_type": "execute_result",
          "data": {
            "text/plain": [
              "Index(['S.No.', 'Name of the State', '2019-20 (Rs. in crores)',\n",
              "       '2020-21 (Rs. in crores)', '2021-22 (as on 31.03.2022)(Rs. in crores)',\n",
              "       '2022-23(as on 31.05.2022) (Rs. in crores)'],\n",
              "      dtype='object')"
            ]
          },
          "metadata": {},
          "execution_count": 14
        }
      ]
    },
    {
      "cell_type": "markdown",
      "source": [
        "**6.** Create the new column '2023-2024' with value 2023-2024 = (2022-2023*2) +100."
      ],
      "metadata": {
        "id": "8No1sxj_tHez"
      }
    },
    {
      "cell_type": "code",
      "source": [
        "df['2023-24(as on 31.05.2023) (Rs. in crores)'] = (df['2022-23(as on 31.05.2022) (Rs. in crores)'] * 2) + 100\n",
        "df"
      ],
      "metadata": {
        "colab": {
          "base_uri": "https://localhost:8080/",
          "height": 738
        },
        "id": "KHUrnsahtJzQ",
        "outputId": "b0a9419d-50d5-4cf8-ce8b-496a8fe6ec72"
      },
      "execution_count": null,
      "outputs": [
        {
          "output_type": "execute_result",
          "data": {
            "text/plain": [
              "    S.No. Name of the State  2019-20 (Rs. in crores)  2020-21 (Rs. in crores)  \\\n",
              "0     1.0    Andhra Pradesh                  7404.42                  8424.72   \n",
              "1     2.0             Bihar                  2535.71                  4117.33   \n",
              "2     3.0      Chhattisgarh                  4628.11                  7193.13   \n",
              "3     4.0           Gujarat                    69.03                     9.24   \n",
              "4     5.0         Karnataka                   205.79                   323.99   \n",
              "5     6.0            Kerala                   469.30                  1214.98   \n",
              "6     7.0    Madhya Pradesh                  8888.39                 11946.44   \n",
              "7     8.0       Maharashtra                  1920.17                  2555.74   \n",
              "8     9.0            Odisha                  5807.45                  8985.73   \n",
              "9    10.0            Punjab                  1612.09                  1761.53   \n",
              "10   11.0         Rajasthan                     0.00                     0.00   \n",
              "11   12.0        Tamil Nadu                  3242.79                  3109.76   \n",
              "12   13.0         Telangana                  4858.89                  6879.59   \n",
              "13   14.0     Uttar Pradesh                     0.00                     0.00   \n",
              "14   15.0       Uttarakhand                   903.12                  1371.33   \n",
              "15   16.0       West Bengal                  2194.86                  8792.03   \n",
              "16   17.0         Jharkhand                     0.00                     3.66   \n",
              "17   18.0           Tripura                     0.00                    29.79   \n",
              "18   19.0               DBT                   204.24                   182.78   \n",
              "19    NaN             Total                 44944.36                 66901.77   \n",
              "\n",
              "    2021-22 (as on 31.03.2022)(Rs. in crores)  \\\n",
              "0                                     9323.38   \n",
              "1                                     7671.90   \n",
              "2                                     9047.77   \n",
              "3                                      749.43   \n",
              "4                                     1682.12   \n",
              "5                                     1777.86   \n",
              "6                                    14420.62   \n",
              "7                                     4082.07   \n",
              "8                                     7892.69   \n",
              "9                                     2047.53   \n",
              "10                                       0.00   \n",
              "11                                    6250.93   \n",
              "12                                    7665.02   \n",
              "13                                       0.00   \n",
              "14                                    1554.43   \n",
              "15                                    5421.34   \n",
              "16                                       0.00   \n",
              "17                                      15.58   \n",
              "18                                     186.87   \n",
              "19                                   79789.54   \n",
              "\n",
              "    2022-23(as on 31.05.2022) (Rs. in crores)  \\\n",
              "0                                        0.00   \n",
              "1                                        0.00   \n",
              "2                                        0.00   \n",
              "3                                        0.00   \n",
              "4                                        0.00   \n",
              "5                                        0.00   \n",
              "6                                        0.00   \n",
              "7                                        0.00   \n",
              "8                                        0.00   \n",
              "9                                        0.00   \n",
              "10                                       0.00   \n",
              "11                                       0.00   \n",
              "12                                       0.00   \n",
              "13                                       0.00   \n",
              "14                                       0.00   \n",
              "15                                       0.00   \n",
              "16                                       0.00   \n",
              "17                                       0.00   \n",
              "18                                      20.32   \n",
              "19                                      20.32   \n",
              "\n",
              "    2023-24(as on 31.05.2023) (Rs. in crores)  \n",
              "0                                      100.00  \n",
              "1                                      100.00  \n",
              "2                                      100.00  \n",
              "3                                      100.00  \n",
              "4                                      100.00  \n",
              "5                                      100.00  \n",
              "6                                      100.00  \n",
              "7                                      100.00  \n",
              "8                                      100.00  \n",
              "9                                      100.00  \n",
              "10                                     100.00  \n",
              "11                                     100.00  \n",
              "12                                     100.00  \n",
              "13                                     100.00  \n",
              "14                                     100.00  \n",
              "15                                     100.00  \n",
              "16                                     100.00  \n",
              "17                                     100.00  \n",
              "18                                     140.64  \n",
              "19                                     140.64  "
            ],
            "text/html": [
              "\n",
              "  <div id=\"df-21e26918-e580-4865-9bb5-39f173aecc28\">\n",
              "    <div class=\"colab-df-container\">\n",
              "      <div>\n",
              "<style scoped>\n",
              "    .dataframe tbody tr th:only-of-type {\n",
              "        vertical-align: middle;\n",
              "    }\n",
              "\n",
              "    .dataframe tbody tr th {\n",
              "        vertical-align: top;\n",
              "    }\n",
              "\n",
              "    .dataframe thead th {\n",
              "        text-align: right;\n",
              "    }\n",
              "</style>\n",
              "<table border=\"1\" class=\"dataframe\">\n",
              "  <thead>\n",
              "    <tr style=\"text-align: right;\">\n",
              "      <th></th>\n",
              "      <th>S.No.</th>\n",
              "      <th>Name of the State</th>\n",
              "      <th>2019-20 (Rs. in crores)</th>\n",
              "      <th>2020-21 (Rs. in crores)</th>\n",
              "      <th>2021-22 (as on 31.03.2022)(Rs. in crores)</th>\n",
              "      <th>2022-23(as on 31.05.2022) (Rs. in crores)</th>\n",
              "      <th>2023-24(as on 31.05.2023) (Rs. in crores)</th>\n",
              "    </tr>\n",
              "  </thead>\n",
              "  <tbody>\n",
              "    <tr>\n",
              "      <th>0</th>\n",
              "      <td>1.0</td>\n",
              "      <td>Andhra Pradesh</td>\n",
              "      <td>7404.42</td>\n",
              "      <td>8424.72</td>\n",
              "      <td>9323.38</td>\n",
              "      <td>0.00</td>\n",
              "      <td>100.00</td>\n",
              "    </tr>\n",
              "    <tr>\n",
              "      <th>1</th>\n",
              "      <td>2.0</td>\n",
              "      <td>Bihar</td>\n",
              "      <td>2535.71</td>\n",
              "      <td>4117.33</td>\n",
              "      <td>7671.90</td>\n",
              "      <td>0.00</td>\n",
              "      <td>100.00</td>\n",
              "    </tr>\n",
              "    <tr>\n",
              "      <th>2</th>\n",
              "      <td>3.0</td>\n",
              "      <td>Chhattisgarh</td>\n",
              "      <td>4628.11</td>\n",
              "      <td>7193.13</td>\n",
              "      <td>9047.77</td>\n",
              "      <td>0.00</td>\n",
              "      <td>100.00</td>\n",
              "    </tr>\n",
              "    <tr>\n",
              "      <th>3</th>\n",
              "      <td>4.0</td>\n",
              "      <td>Gujarat</td>\n",
              "      <td>69.03</td>\n",
              "      <td>9.24</td>\n",
              "      <td>749.43</td>\n",
              "      <td>0.00</td>\n",
              "      <td>100.00</td>\n",
              "    </tr>\n",
              "    <tr>\n",
              "      <th>4</th>\n",
              "      <td>5.0</td>\n",
              "      <td>Karnataka</td>\n",
              "      <td>205.79</td>\n",
              "      <td>323.99</td>\n",
              "      <td>1682.12</td>\n",
              "      <td>0.00</td>\n",
              "      <td>100.00</td>\n",
              "    </tr>\n",
              "    <tr>\n",
              "      <th>5</th>\n",
              "      <td>6.0</td>\n",
              "      <td>Kerala</td>\n",
              "      <td>469.30</td>\n",
              "      <td>1214.98</td>\n",
              "      <td>1777.86</td>\n",
              "      <td>0.00</td>\n",
              "      <td>100.00</td>\n",
              "    </tr>\n",
              "    <tr>\n",
              "      <th>6</th>\n",
              "      <td>7.0</td>\n",
              "      <td>Madhya Pradesh</td>\n",
              "      <td>8888.39</td>\n",
              "      <td>11946.44</td>\n",
              "      <td>14420.62</td>\n",
              "      <td>0.00</td>\n",
              "      <td>100.00</td>\n",
              "    </tr>\n",
              "    <tr>\n",
              "      <th>7</th>\n",
              "      <td>8.0</td>\n",
              "      <td>Maharashtra</td>\n",
              "      <td>1920.17</td>\n",
              "      <td>2555.74</td>\n",
              "      <td>4082.07</td>\n",
              "      <td>0.00</td>\n",
              "      <td>100.00</td>\n",
              "    </tr>\n",
              "    <tr>\n",
              "      <th>8</th>\n",
              "      <td>9.0</td>\n",
              "      <td>Odisha</td>\n",
              "      <td>5807.45</td>\n",
              "      <td>8985.73</td>\n",
              "      <td>7892.69</td>\n",
              "      <td>0.00</td>\n",
              "      <td>100.00</td>\n",
              "    </tr>\n",
              "    <tr>\n",
              "      <th>9</th>\n",
              "      <td>10.0</td>\n",
              "      <td>Punjab</td>\n",
              "      <td>1612.09</td>\n",
              "      <td>1761.53</td>\n",
              "      <td>2047.53</td>\n",
              "      <td>0.00</td>\n",
              "      <td>100.00</td>\n",
              "    </tr>\n",
              "    <tr>\n",
              "      <th>10</th>\n",
              "      <td>11.0</td>\n",
              "      <td>Rajasthan</td>\n",
              "      <td>0.00</td>\n",
              "      <td>0.00</td>\n",
              "      <td>0.00</td>\n",
              "      <td>0.00</td>\n",
              "      <td>100.00</td>\n",
              "    </tr>\n",
              "    <tr>\n",
              "      <th>11</th>\n",
              "      <td>12.0</td>\n",
              "      <td>Tamil Nadu</td>\n",
              "      <td>3242.79</td>\n",
              "      <td>3109.76</td>\n",
              "      <td>6250.93</td>\n",
              "      <td>0.00</td>\n",
              "      <td>100.00</td>\n",
              "    </tr>\n",
              "    <tr>\n",
              "      <th>12</th>\n",
              "      <td>13.0</td>\n",
              "      <td>Telangana</td>\n",
              "      <td>4858.89</td>\n",
              "      <td>6879.59</td>\n",
              "      <td>7665.02</td>\n",
              "      <td>0.00</td>\n",
              "      <td>100.00</td>\n",
              "    </tr>\n",
              "    <tr>\n",
              "      <th>13</th>\n",
              "      <td>14.0</td>\n",
              "      <td>Uttar Pradesh</td>\n",
              "      <td>0.00</td>\n",
              "      <td>0.00</td>\n",
              "      <td>0.00</td>\n",
              "      <td>0.00</td>\n",
              "      <td>100.00</td>\n",
              "    </tr>\n",
              "    <tr>\n",
              "      <th>14</th>\n",
              "      <td>15.0</td>\n",
              "      <td>Uttarakhand</td>\n",
              "      <td>903.12</td>\n",
              "      <td>1371.33</td>\n",
              "      <td>1554.43</td>\n",
              "      <td>0.00</td>\n",
              "      <td>100.00</td>\n",
              "    </tr>\n",
              "    <tr>\n",
              "      <th>15</th>\n",
              "      <td>16.0</td>\n",
              "      <td>West Bengal</td>\n",
              "      <td>2194.86</td>\n",
              "      <td>8792.03</td>\n",
              "      <td>5421.34</td>\n",
              "      <td>0.00</td>\n",
              "      <td>100.00</td>\n",
              "    </tr>\n",
              "    <tr>\n",
              "      <th>16</th>\n",
              "      <td>17.0</td>\n",
              "      <td>Jharkhand</td>\n",
              "      <td>0.00</td>\n",
              "      <td>3.66</td>\n",
              "      <td>0.00</td>\n",
              "      <td>0.00</td>\n",
              "      <td>100.00</td>\n",
              "    </tr>\n",
              "    <tr>\n",
              "      <th>17</th>\n",
              "      <td>18.0</td>\n",
              "      <td>Tripura</td>\n",
              "      <td>0.00</td>\n",
              "      <td>29.79</td>\n",
              "      <td>15.58</td>\n",
              "      <td>0.00</td>\n",
              "      <td>100.00</td>\n",
              "    </tr>\n",
              "    <tr>\n",
              "      <th>18</th>\n",
              "      <td>19.0</td>\n",
              "      <td>DBT</td>\n",
              "      <td>204.24</td>\n",
              "      <td>182.78</td>\n",
              "      <td>186.87</td>\n",
              "      <td>20.32</td>\n",
              "      <td>140.64</td>\n",
              "    </tr>\n",
              "    <tr>\n",
              "      <th>19</th>\n",
              "      <td>NaN</td>\n",
              "      <td>Total</td>\n",
              "      <td>44944.36</td>\n",
              "      <td>66901.77</td>\n",
              "      <td>79789.54</td>\n",
              "      <td>20.32</td>\n",
              "      <td>140.64</td>\n",
              "    </tr>\n",
              "  </tbody>\n",
              "</table>\n",
              "</div>\n",
              "      <button class=\"colab-df-convert\" onclick=\"convertToInteractive('df-21e26918-e580-4865-9bb5-39f173aecc28')\"\n",
              "              title=\"Convert this dataframe to an interactive table.\"\n",
              "              style=\"display:none;\">\n",
              "        \n",
              "  <svg xmlns=\"http://www.w3.org/2000/svg\" height=\"24px\"viewBox=\"0 0 24 24\"\n",
              "       width=\"24px\">\n",
              "    <path d=\"M0 0h24v24H0V0z\" fill=\"none\"/>\n",
              "    <path d=\"M18.56 5.44l.94 2.06.94-2.06 2.06-.94-2.06-.94-.94-2.06-.94 2.06-2.06.94zm-11 1L8.5 8.5l.94-2.06 2.06-.94-2.06-.94L8.5 2.5l-.94 2.06-2.06.94zm10 10l.94 2.06.94-2.06 2.06-.94-2.06-.94-.94-2.06-.94 2.06-2.06.94z\"/><path d=\"M17.41 7.96l-1.37-1.37c-.4-.4-.92-.59-1.43-.59-.52 0-1.04.2-1.43.59L10.3 9.45l-7.72 7.72c-.78.78-.78 2.05 0 2.83L4 21.41c.39.39.9.59 1.41.59.51 0 1.02-.2 1.41-.59l7.78-7.78 2.81-2.81c.8-.78.8-2.07 0-2.86zM5.41 20L4 18.59l7.72-7.72 1.47 1.35L5.41 20z\"/>\n",
              "  </svg>\n",
              "      </button>\n",
              "      \n",
              "  <style>\n",
              "    .colab-df-container {\n",
              "      display:flex;\n",
              "      flex-wrap:wrap;\n",
              "      gap: 12px;\n",
              "    }\n",
              "\n",
              "    .colab-df-convert {\n",
              "      background-color: #E8F0FE;\n",
              "      border: none;\n",
              "      border-radius: 50%;\n",
              "      cursor: pointer;\n",
              "      display: none;\n",
              "      fill: #1967D2;\n",
              "      height: 32px;\n",
              "      padding: 0 0 0 0;\n",
              "      width: 32px;\n",
              "    }\n",
              "\n",
              "    .colab-df-convert:hover {\n",
              "      background-color: #E2EBFA;\n",
              "      box-shadow: 0px 1px 2px rgba(60, 64, 67, 0.3), 0px 1px 3px 1px rgba(60, 64, 67, 0.15);\n",
              "      fill: #174EA6;\n",
              "    }\n",
              "\n",
              "    [theme=dark] .colab-df-convert {\n",
              "      background-color: #3B4455;\n",
              "      fill: #D2E3FC;\n",
              "    }\n",
              "\n",
              "    [theme=dark] .colab-df-convert:hover {\n",
              "      background-color: #434B5C;\n",
              "      box-shadow: 0px 1px 3px 1px rgba(0, 0, 0, 0.15);\n",
              "      filter: drop-shadow(0px 1px 2px rgba(0, 0, 0, 0.3));\n",
              "      fill: #FFFFFF;\n",
              "    }\n",
              "  </style>\n",
              "\n",
              "      <script>\n",
              "        const buttonEl =\n",
              "          document.querySelector('#df-21e26918-e580-4865-9bb5-39f173aecc28 button.colab-df-convert');\n",
              "        buttonEl.style.display =\n",
              "          google.colab.kernel.accessAllowed ? 'block' : 'none';\n",
              "\n",
              "        async function convertToInteractive(key) {\n",
              "          const element = document.querySelector('#df-21e26918-e580-4865-9bb5-39f173aecc28');\n",
              "          const dataTable =\n",
              "            await google.colab.kernel.invokeFunction('convertToInteractive',\n",
              "                                                     [key], {});\n",
              "          if (!dataTable) return;\n",
              "\n",
              "          const docLinkHtml = 'Like what you see? Visit the ' +\n",
              "            '<a target=\"_blank\" href=https://colab.research.google.com/notebooks/data_table.ipynb>data table notebook</a>'\n",
              "            + ' to learn more about interactive tables.';\n",
              "          element.innerHTML = '';\n",
              "          dataTable['output_type'] = 'display_data';\n",
              "          await google.colab.output.renderOutput(dataTable, element);\n",
              "          const docLink = document.createElement('div');\n",
              "          docLink.innerHTML = docLinkHtml;\n",
              "          element.appendChild(docLink);\n",
              "        }\n",
              "      </script>\n",
              "    </div>\n",
              "  </div>\n",
              "  "
            ]
          },
          "metadata": {},
          "execution_count": 15
        }
      ]
    },
    {
      "cell_type": "markdown",
      "source": [
        "**7.** Count the null values in the data frame and fill the null values by ‘20.0’."
      ],
      "metadata": {
        "id": "3ecYslweuRS_"
      }
    },
    {
      "cell_type": "code",
      "source": [
        "import numpy as np\n",
        "count_nan = df.isna().sum().sum()\n",
        "print(f'The total number of null values is {count_nan}.')\n",
        "df.replace(np.nan,20.0, inplace=True)\n",
        "df"
      ],
      "metadata": {
        "colab": {
          "base_uri": "https://localhost:8080/",
          "height": 737
        },
        "id": "JaKcxaPaukgl",
        "outputId": "484f2946-169d-42d7-a53b-a77b98f5a216"
      },
      "execution_count": 6,
      "outputs": [
        {
          "output_type": "stream",
          "name": "stdout",
          "text": [
            "The total number of null values is 0.\n"
          ]
        },
        {
          "output_type": "execute_result",
          "data": {
            "text/plain": [
              "    S.No. Name of the State  2019-20 (Rs. in crores)  2020-21 (Rs. in crores)  \\\n",
              "0     1.0    Andhra Pradesh                  7404.42                  8424.72   \n",
              "1     2.0             Bihar                  2535.71                  4117.33   \n",
              "2     3.0      Chhattisgarh                  4628.11                  7193.13   \n",
              "3     4.0           Gujarat                    69.03                     9.24   \n",
              "4     5.0         Karnataka                   205.79                   323.99   \n",
              "5     6.0            Kerala                   469.30                  1214.98   \n",
              "6     7.0    Madhya Pradesh                  8888.39                 11946.44   \n",
              "7     8.0       Maharashtra                  1920.17                  2555.74   \n",
              "8     9.0            Odisha                  5807.45                  8985.73   \n",
              "9    10.0            Punjab                  1612.09                  1761.53   \n",
              "10   11.0         Rajasthan                     0.00                     0.00   \n",
              "11   12.0        Tamil Nadu                  3242.79                  3109.76   \n",
              "12   13.0         Telangana                  4858.89                  6879.59   \n",
              "13   14.0     Uttar Pradesh                     0.00                     0.00   \n",
              "14   15.0       Uttarakhand                   903.12                  1371.33   \n",
              "15   16.0       West Bengal                  2194.86                  8792.03   \n",
              "16   17.0         Jharkhand                     0.00                     3.66   \n",
              "17   18.0           Tripura                     0.00                    29.79   \n",
              "18   19.0               DBT                   204.24                   182.78   \n",
              "19   20.0             Total                 44944.36                 66901.77   \n",
              "\n",
              "    2021-22 (as on 31.03.2022)(Rs. in crores)  \\\n",
              "0                                     9323.38   \n",
              "1                                     7671.90   \n",
              "2                                     9047.77   \n",
              "3                                      749.43   \n",
              "4                                     1682.12   \n",
              "5                                     1777.86   \n",
              "6                                    14420.62   \n",
              "7                                     4082.07   \n",
              "8                                     7892.69   \n",
              "9                                     2047.53   \n",
              "10                                       0.00   \n",
              "11                                    6250.93   \n",
              "12                                    7665.02   \n",
              "13                                       0.00   \n",
              "14                                    1554.43   \n",
              "15                                    5421.34   \n",
              "16                                       0.00   \n",
              "17                                      15.58   \n",
              "18                                     186.87   \n",
              "19                                   79789.54   \n",
              "\n",
              "    2022-23(as on 31.05.2022) (Rs. in crores)  \n",
              "0                                        0.00  \n",
              "1                                        0.00  \n",
              "2                                        0.00  \n",
              "3                                        0.00  \n",
              "4                                        0.00  \n",
              "5                                        0.00  \n",
              "6                                        0.00  \n",
              "7                                        0.00  \n",
              "8                                        0.00  \n",
              "9                                        0.00  \n",
              "10                                       0.00  \n",
              "11                                       0.00  \n",
              "12                                       0.00  \n",
              "13                                       0.00  \n",
              "14                                       0.00  \n",
              "15                                       0.00  \n",
              "16                                       0.00  \n",
              "17                                       0.00  \n",
              "18                                      20.32  \n",
              "19                                      20.32  "
            ],
            "text/html": [
              "\n",
              "  <div id=\"df-b8f2868b-35d3-4446-82e4-7c06ccdcfcb6\">\n",
              "    <div class=\"colab-df-container\">\n",
              "      <div>\n",
              "<style scoped>\n",
              "    .dataframe tbody tr th:only-of-type {\n",
              "        vertical-align: middle;\n",
              "    }\n",
              "\n",
              "    .dataframe tbody tr th {\n",
              "        vertical-align: top;\n",
              "    }\n",
              "\n",
              "    .dataframe thead th {\n",
              "        text-align: right;\n",
              "    }\n",
              "</style>\n",
              "<table border=\"1\" class=\"dataframe\">\n",
              "  <thead>\n",
              "    <tr style=\"text-align: right;\">\n",
              "      <th></th>\n",
              "      <th>S.No.</th>\n",
              "      <th>Name of the State</th>\n",
              "      <th>2019-20 (Rs. in crores)</th>\n",
              "      <th>2020-21 (Rs. in crores)</th>\n",
              "      <th>2021-22 (as on 31.03.2022)(Rs. in crores)</th>\n",
              "      <th>2022-23(as on 31.05.2022) (Rs. in crores)</th>\n",
              "    </tr>\n",
              "  </thead>\n",
              "  <tbody>\n",
              "    <tr>\n",
              "      <th>0</th>\n",
              "      <td>1.0</td>\n",
              "      <td>Andhra Pradesh</td>\n",
              "      <td>7404.42</td>\n",
              "      <td>8424.72</td>\n",
              "      <td>9323.38</td>\n",
              "      <td>0.00</td>\n",
              "    </tr>\n",
              "    <tr>\n",
              "      <th>1</th>\n",
              "      <td>2.0</td>\n",
              "      <td>Bihar</td>\n",
              "      <td>2535.71</td>\n",
              "      <td>4117.33</td>\n",
              "      <td>7671.90</td>\n",
              "      <td>0.00</td>\n",
              "    </tr>\n",
              "    <tr>\n",
              "      <th>2</th>\n",
              "      <td>3.0</td>\n",
              "      <td>Chhattisgarh</td>\n",
              "      <td>4628.11</td>\n",
              "      <td>7193.13</td>\n",
              "      <td>9047.77</td>\n",
              "      <td>0.00</td>\n",
              "    </tr>\n",
              "    <tr>\n",
              "      <th>3</th>\n",
              "      <td>4.0</td>\n",
              "      <td>Gujarat</td>\n",
              "      <td>69.03</td>\n",
              "      <td>9.24</td>\n",
              "      <td>749.43</td>\n",
              "      <td>0.00</td>\n",
              "    </tr>\n",
              "    <tr>\n",
              "      <th>4</th>\n",
              "      <td>5.0</td>\n",
              "      <td>Karnataka</td>\n",
              "      <td>205.79</td>\n",
              "      <td>323.99</td>\n",
              "      <td>1682.12</td>\n",
              "      <td>0.00</td>\n",
              "    </tr>\n",
              "    <tr>\n",
              "      <th>5</th>\n",
              "      <td>6.0</td>\n",
              "      <td>Kerala</td>\n",
              "      <td>469.30</td>\n",
              "      <td>1214.98</td>\n",
              "      <td>1777.86</td>\n",
              "      <td>0.00</td>\n",
              "    </tr>\n",
              "    <tr>\n",
              "      <th>6</th>\n",
              "      <td>7.0</td>\n",
              "      <td>Madhya Pradesh</td>\n",
              "      <td>8888.39</td>\n",
              "      <td>11946.44</td>\n",
              "      <td>14420.62</td>\n",
              "      <td>0.00</td>\n",
              "    </tr>\n",
              "    <tr>\n",
              "      <th>7</th>\n",
              "      <td>8.0</td>\n",
              "      <td>Maharashtra</td>\n",
              "      <td>1920.17</td>\n",
              "      <td>2555.74</td>\n",
              "      <td>4082.07</td>\n",
              "      <td>0.00</td>\n",
              "    </tr>\n",
              "    <tr>\n",
              "      <th>8</th>\n",
              "      <td>9.0</td>\n",
              "      <td>Odisha</td>\n",
              "      <td>5807.45</td>\n",
              "      <td>8985.73</td>\n",
              "      <td>7892.69</td>\n",
              "      <td>0.00</td>\n",
              "    </tr>\n",
              "    <tr>\n",
              "      <th>9</th>\n",
              "      <td>10.0</td>\n",
              "      <td>Punjab</td>\n",
              "      <td>1612.09</td>\n",
              "      <td>1761.53</td>\n",
              "      <td>2047.53</td>\n",
              "      <td>0.00</td>\n",
              "    </tr>\n",
              "    <tr>\n",
              "      <th>10</th>\n",
              "      <td>11.0</td>\n",
              "      <td>Rajasthan</td>\n",
              "      <td>0.00</td>\n",
              "      <td>0.00</td>\n",
              "      <td>0.00</td>\n",
              "      <td>0.00</td>\n",
              "    </tr>\n",
              "    <tr>\n",
              "      <th>11</th>\n",
              "      <td>12.0</td>\n",
              "      <td>Tamil Nadu</td>\n",
              "      <td>3242.79</td>\n",
              "      <td>3109.76</td>\n",
              "      <td>6250.93</td>\n",
              "      <td>0.00</td>\n",
              "    </tr>\n",
              "    <tr>\n",
              "      <th>12</th>\n",
              "      <td>13.0</td>\n",
              "      <td>Telangana</td>\n",
              "      <td>4858.89</td>\n",
              "      <td>6879.59</td>\n",
              "      <td>7665.02</td>\n",
              "      <td>0.00</td>\n",
              "    </tr>\n",
              "    <tr>\n",
              "      <th>13</th>\n",
              "      <td>14.0</td>\n",
              "      <td>Uttar Pradesh</td>\n",
              "      <td>0.00</td>\n",
              "      <td>0.00</td>\n",
              "      <td>0.00</td>\n",
              "      <td>0.00</td>\n",
              "    </tr>\n",
              "    <tr>\n",
              "      <th>14</th>\n",
              "      <td>15.0</td>\n",
              "      <td>Uttarakhand</td>\n",
              "      <td>903.12</td>\n",
              "      <td>1371.33</td>\n",
              "      <td>1554.43</td>\n",
              "      <td>0.00</td>\n",
              "    </tr>\n",
              "    <tr>\n",
              "      <th>15</th>\n",
              "      <td>16.0</td>\n",
              "      <td>West Bengal</td>\n",
              "      <td>2194.86</td>\n",
              "      <td>8792.03</td>\n",
              "      <td>5421.34</td>\n",
              "      <td>0.00</td>\n",
              "    </tr>\n",
              "    <tr>\n",
              "      <th>16</th>\n",
              "      <td>17.0</td>\n",
              "      <td>Jharkhand</td>\n",
              "      <td>0.00</td>\n",
              "      <td>3.66</td>\n",
              "      <td>0.00</td>\n",
              "      <td>0.00</td>\n",
              "    </tr>\n",
              "    <tr>\n",
              "      <th>17</th>\n",
              "      <td>18.0</td>\n",
              "      <td>Tripura</td>\n",
              "      <td>0.00</td>\n",
              "      <td>29.79</td>\n",
              "      <td>15.58</td>\n",
              "      <td>0.00</td>\n",
              "    </tr>\n",
              "    <tr>\n",
              "      <th>18</th>\n",
              "      <td>19.0</td>\n",
              "      <td>DBT</td>\n",
              "      <td>204.24</td>\n",
              "      <td>182.78</td>\n",
              "      <td>186.87</td>\n",
              "      <td>20.32</td>\n",
              "    </tr>\n",
              "    <tr>\n",
              "      <th>19</th>\n",
              "      <td>20.0</td>\n",
              "      <td>Total</td>\n",
              "      <td>44944.36</td>\n",
              "      <td>66901.77</td>\n",
              "      <td>79789.54</td>\n",
              "      <td>20.32</td>\n",
              "    </tr>\n",
              "  </tbody>\n",
              "</table>\n",
              "</div>\n",
              "      <button class=\"colab-df-convert\" onclick=\"convertToInteractive('df-b8f2868b-35d3-4446-82e4-7c06ccdcfcb6')\"\n",
              "              title=\"Convert this dataframe to an interactive table.\"\n",
              "              style=\"display:none;\">\n",
              "        \n",
              "  <svg xmlns=\"http://www.w3.org/2000/svg\" height=\"24px\"viewBox=\"0 0 24 24\"\n",
              "       width=\"24px\">\n",
              "    <path d=\"M0 0h24v24H0V0z\" fill=\"none\"/>\n",
              "    <path d=\"M18.56 5.44l.94 2.06.94-2.06 2.06-.94-2.06-.94-.94-2.06-.94 2.06-2.06.94zm-11 1L8.5 8.5l.94-2.06 2.06-.94-2.06-.94L8.5 2.5l-.94 2.06-2.06.94zm10 10l.94 2.06.94-2.06 2.06-.94-2.06-.94-.94-2.06-.94 2.06-2.06.94z\"/><path d=\"M17.41 7.96l-1.37-1.37c-.4-.4-.92-.59-1.43-.59-.52 0-1.04.2-1.43.59L10.3 9.45l-7.72 7.72c-.78.78-.78 2.05 0 2.83L4 21.41c.39.39.9.59 1.41.59.51 0 1.02-.2 1.41-.59l7.78-7.78 2.81-2.81c.8-.78.8-2.07 0-2.86zM5.41 20L4 18.59l7.72-7.72 1.47 1.35L5.41 20z\"/>\n",
              "  </svg>\n",
              "      </button>\n",
              "      \n",
              "  <style>\n",
              "    .colab-df-container {\n",
              "      display:flex;\n",
              "      flex-wrap:wrap;\n",
              "      gap: 12px;\n",
              "    }\n",
              "\n",
              "    .colab-df-convert {\n",
              "      background-color: #E8F0FE;\n",
              "      border: none;\n",
              "      border-radius: 50%;\n",
              "      cursor: pointer;\n",
              "      display: none;\n",
              "      fill: #1967D2;\n",
              "      height: 32px;\n",
              "      padding: 0 0 0 0;\n",
              "      width: 32px;\n",
              "    }\n",
              "\n",
              "    .colab-df-convert:hover {\n",
              "      background-color: #E2EBFA;\n",
              "      box-shadow: 0px 1px 2px rgba(60, 64, 67, 0.3), 0px 1px 3px 1px rgba(60, 64, 67, 0.15);\n",
              "      fill: #174EA6;\n",
              "    }\n",
              "\n",
              "    [theme=dark] .colab-df-convert {\n",
              "      background-color: #3B4455;\n",
              "      fill: #D2E3FC;\n",
              "    }\n",
              "\n",
              "    [theme=dark] .colab-df-convert:hover {\n",
              "      background-color: #434B5C;\n",
              "      box-shadow: 0px 1px 3px 1px rgba(0, 0, 0, 0.15);\n",
              "      filter: drop-shadow(0px 1px 2px rgba(0, 0, 0, 0.3));\n",
              "      fill: #FFFFFF;\n",
              "    }\n",
              "  </style>\n",
              "\n",
              "      <script>\n",
              "        const buttonEl =\n",
              "          document.querySelector('#df-b8f2868b-35d3-4446-82e4-7c06ccdcfcb6 button.colab-df-convert');\n",
              "        buttonEl.style.display =\n",
              "          google.colab.kernel.accessAllowed ? 'block' : 'none';\n",
              "\n",
              "        async function convertToInteractive(key) {\n",
              "          const element = document.querySelector('#df-b8f2868b-35d3-4446-82e4-7c06ccdcfcb6');\n",
              "          const dataTable =\n",
              "            await google.colab.kernel.invokeFunction('convertToInteractive',\n",
              "                                                     [key], {});\n",
              "          if (!dataTable) return;\n",
              "\n",
              "          const docLinkHtml = 'Like what you see? Visit the ' +\n",
              "            '<a target=\"_blank\" href=https://colab.research.google.com/notebooks/data_table.ipynb>data table notebook</a>'\n",
              "            + ' to learn more about interactive tables.';\n",
              "          element.innerHTML = '';\n",
              "          dataTable['output_type'] = 'display_data';\n",
              "          await google.colab.output.renderOutput(dataTable, element);\n",
              "          const docLink = document.createElement('div');\n",
              "          docLink.innerHTML = docLinkHtml;\n",
              "          element.appendChild(docLink);\n",
              "        }\n",
              "      </script>\n",
              "    </div>\n",
              "  </div>\n",
              "  "
            ]
          },
          "metadata": {},
          "execution_count": 6
        }
      ]
    },
    {
      "cell_type": "markdown",
      "source": [
        "**8.** Append 2 new rows in the data frame and display it."
      ],
      "metadata": {
        "id": "Q7MeM2QEv7Ee"
      }
    },
    {
      "cell_type": "code",
      "source": [
        "temp = df\n",
        "temp = temp.append({'S.No.': 20.0, 'Name of the State': 'J&K', '2019-20 (Rs. in crores)': 4628.11, '2020-21 (Rs. in crores)': 7193.1}, ignore_index = True)\n",
        "temp.tail()"
      ],
      "metadata": {
        "colab": {
          "base_uri": "https://localhost:8080/",
          "height": 250
        },
        "id": "5SDj7OXZv_f6",
        "outputId": "d43a91cb-b73c-4f26-96dd-9b0856cea325"
      },
      "execution_count": 12,
      "outputs": [
        {
          "output_type": "execute_result",
          "data": {
            "text/plain": [
              "    S.No. Name of the State  2019-20 (Rs. in crores)  2020-21 (Rs. in crores)  \\\n",
              "16   17.0         Jharkhand                     0.00                     3.66   \n",
              "17   18.0           Tripura                     0.00                    29.79   \n",
              "18   19.0               DBT                   204.24                   182.78   \n",
              "19   20.0             Total                 44944.36                 66901.77   \n",
              "20   20.0               J&K                  4628.11                  7193.10   \n",
              "\n",
              "    2021-22 (as on 31.03.2022)(Rs. in crores)  \\\n",
              "16                                       0.00   \n",
              "17                                      15.58   \n",
              "18                                     186.87   \n",
              "19                                   79789.54   \n",
              "20                                        NaN   \n",
              "\n",
              "    2022-23(as on 31.05.2022) (Rs. in crores)  \n",
              "16                                       0.00  \n",
              "17                                       0.00  \n",
              "18                                      20.32  \n",
              "19                                      20.32  \n",
              "20                                        NaN  "
            ],
            "text/html": [
              "\n",
              "  <div id=\"df-638bddd5-60bc-4b15-b1f9-19f06a6c0bd7\">\n",
              "    <div class=\"colab-df-container\">\n",
              "      <div>\n",
              "<style scoped>\n",
              "    .dataframe tbody tr th:only-of-type {\n",
              "        vertical-align: middle;\n",
              "    }\n",
              "\n",
              "    .dataframe tbody tr th {\n",
              "        vertical-align: top;\n",
              "    }\n",
              "\n",
              "    .dataframe thead th {\n",
              "        text-align: right;\n",
              "    }\n",
              "</style>\n",
              "<table border=\"1\" class=\"dataframe\">\n",
              "  <thead>\n",
              "    <tr style=\"text-align: right;\">\n",
              "      <th></th>\n",
              "      <th>S.No.</th>\n",
              "      <th>Name of the State</th>\n",
              "      <th>2019-20 (Rs. in crores)</th>\n",
              "      <th>2020-21 (Rs. in crores)</th>\n",
              "      <th>2021-22 (as on 31.03.2022)(Rs. in crores)</th>\n",
              "      <th>2022-23(as on 31.05.2022) (Rs. in crores)</th>\n",
              "    </tr>\n",
              "  </thead>\n",
              "  <tbody>\n",
              "    <tr>\n",
              "      <th>16</th>\n",
              "      <td>17.0</td>\n",
              "      <td>Jharkhand</td>\n",
              "      <td>0.00</td>\n",
              "      <td>3.66</td>\n",
              "      <td>0.00</td>\n",
              "      <td>0.00</td>\n",
              "    </tr>\n",
              "    <tr>\n",
              "      <th>17</th>\n",
              "      <td>18.0</td>\n",
              "      <td>Tripura</td>\n",
              "      <td>0.00</td>\n",
              "      <td>29.79</td>\n",
              "      <td>15.58</td>\n",
              "      <td>0.00</td>\n",
              "    </tr>\n",
              "    <tr>\n",
              "      <th>18</th>\n",
              "      <td>19.0</td>\n",
              "      <td>DBT</td>\n",
              "      <td>204.24</td>\n",
              "      <td>182.78</td>\n",
              "      <td>186.87</td>\n",
              "      <td>20.32</td>\n",
              "    </tr>\n",
              "    <tr>\n",
              "      <th>19</th>\n",
              "      <td>20.0</td>\n",
              "      <td>Total</td>\n",
              "      <td>44944.36</td>\n",
              "      <td>66901.77</td>\n",
              "      <td>79789.54</td>\n",
              "      <td>20.32</td>\n",
              "    </tr>\n",
              "    <tr>\n",
              "      <th>20</th>\n",
              "      <td>20.0</td>\n",
              "      <td>J&amp;K</td>\n",
              "      <td>4628.11</td>\n",
              "      <td>7193.10</td>\n",
              "      <td>NaN</td>\n",
              "      <td>NaN</td>\n",
              "    </tr>\n",
              "  </tbody>\n",
              "</table>\n",
              "</div>\n",
              "      <button class=\"colab-df-convert\" onclick=\"convertToInteractive('df-638bddd5-60bc-4b15-b1f9-19f06a6c0bd7')\"\n",
              "              title=\"Convert this dataframe to an interactive table.\"\n",
              "              style=\"display:none;\">\n",
              "        \n",
              "  <svg xmlns=\"http://www.w3.org/2000/svg\" height=\"24px\"viewBox=\"0 0 24 24\"\n",
              "       width=\"24px\">\n",
              "    <path d=\"M0 0h24v24H0V0z\" fill=\"none\"/>\n",
              "    <path d=\"M18.56 5.44l.94 2.06.94-2.06 2.06-.94-2.06-.94-.94-2.06-.94 2.06-2.06.94zm-11 1L8.5 8.5l.94-2.06 2.06-.94-2.06-.94L8.5 2.5l-.94 2.06-2.06.94zm10 10l.94 2.06.94-2.06 2.06-.94-2.06-.94-.94-2.06-.94 2.06-2.06.94z\"/><path d=\"M17.41 7.96l-1.37-1.37c-.4-.4-.92-.59-1.43-.59-.52 0-1.04.2-1.43.59L10.3 9.45l-7.72 7.72c-.78.78-.78 2.05 0 2.83L4 21.41c.39.39.9.59 1.41.59.51 0 1.02-.2 1.41-.59l7.78-7.78 2.81-2.81c.8-.78.8-2.07 0-2.86zM5.41 20L4 18.59l7.72-7.72 1.47 1.35L5.41 20z\"/>\n",
              "  </svg>\n",
              "      </button>\n",
              "      \n",
              "  <style>\n",
              "    .colab-df-container {\n",
              "      display:flex;\n",
              "      flex-wrap:wrap;\n",
              "      gap: 12px;\n",
              "    }\n",
              "\n",
              "    .colab-df-convert {\n",
              "      background-color: #E8F0FE;\n",
              "      border: none;\n",
              "      border-radius: 50%;\n",
              "      cursor: pointer;\n",
              "      display: none;\n",
              "      fill: #1967D2;\n",
              "      height: 32px;\n",
              "      padding: 0 0 0 0;\n",
              "      width: 32px;\n",
              "    }\n",
              "\n",
              "    .colab-df-convert:hover {\n",
              "      background-color: #E2EBFA;\n",
              "      box-shadow: 0px 1px 2px rgba(60, 64, 67, 0.3), 0px 1px 3px 1px rgba(60, 64, 67, 0.15);\n",
              "      fill: #174EA6;\n",
              "    }\n",
              "\n",
              "    [theme=dark] .colab-df-convert {\n",
              "      background-color: #3B4455;\n",
              "      fill: #D2E3FC;\n",
              "    }\n",
              "\n",
              "    [theme=dark] .colab-df-convert:hover {\n",
              "      background-color: #434B5C;\n",
              "      box-shadow: 0px 1px 3px 1px rgba(0, 0, 0, 0.15);\n",
              "      filter: drop-shadow(0px 1px 2px rgba(0, 0, 0, 0.3));\n",
              "      fill: #FFFFFF;\n",
              "    }\n",
              "  </style>\n",
              "\n",
              "      <script>\n",
              "        const buttonEl =\n",
              "          document.querySelector('#df-638bddd5-60bc-4b15-b1f9-19f06a6c0bd7 button.colab-df-convert');\n",
              "        buttonEl.style.display =\n",
              "          google.colab.kernel.accessAllowed ? 'block' : 'none';\n",
              "\n",
              "        async function convertToInteractive(key) {\n",
              "          const element = document.querySelector('#df-638bddd5-60bc-4b15-b1f9-19f06a6c0bd7');\n",
              "          const dataTable =\n",
              "            await google.colab.kernel.invokeFunction('convertToInteractive',\n",
              "                                                     [key], {});\n",
              "          if (!dataTable) return;\n",
              "\n",
              "          const docLinkHtml = 'Like what you see? Visit the ' +\n",
              "            '<a target=\"_blank\" href=https://colab.research.google.com/notebooks/data_table.ipynb>data table notebook</a>'\n",
              "            + ' to learn more about interactive tables.';\n",
              "          element.innerHTML = '';\n",
              "          dataTable['output_type'] = 'display_data';\n",
              "          await google.colab.output.renderOutput(dataTable, element);\n",
              "          const docLink = document.createElement('div');\n",
              "          docLink.innerHTML = docLinkHtml;\n",
              "          element.appendChild(docLink);\n",
              "        }\n",
              "      </script>\n",
              "    </div>\n",
              "  </div>\n",
              "  "
            ]
          },
          "metadata": {},
          "execution_count": 12
        }
      ]
    },
    {
      "cell_type": "markdown",
      "source": [
        "**9.** Drop the S.No. column in the data frame and display it."
      ],
      "metadata": {
        "id": "qoaM8nv_3gDR"
      }
    },
    {
      "cell_type": "code",
      "source": [
        "df.drop(['S.No.'], axis=1, inplace=True)\n",
        "print(df)"
      ],
      "metadata": {
        "id": "Qim8FdFk4w4F"
      },
      "execution_count": null,
      "outputs": []
    },
    {
      "cell_type": "markdown",
      "source": [
        "**10.** Rename the column Name of the state to State."
      ],
      "metadata": {
        "id": "oo_zCcy26D-Z"
      }
    },
    {
      "cell_type": "code",
      "source": [
        "df.rename(columns={'Name of the state': 'Vaanga'}, inplace=True)\n",
        "df"
      ],
      "metadata": {
        "colab": {
          "base_uri": "https://localhost:8080/",
          "height": 738
        },
        "id": "xgxLswEo6eAj",
        "outputId": "447c756f-1d62-498f-8670-004fc16783e2"
      },
      "execution_count": null,
      "outputs": [
        {
          "output_type": "execute_result",
          "data": {
            "text/plain": [
              "   Name of the State  2019-20 (Rs. in crores)  2020-21 (Rs. in crores)  \\\n",
              "0     Andhra Pradesh                  7404.42                  8424.72   \n",
              "1              Bihar                  2535.71                  4117.33   \n",
              "2       Chhattisgarh                  4628.11                  7193.13   \n",
              "3            Gujarat                    69.03                     9.24   \n",
              "4          Karnataka                   205.79                   323.99   \n",
              "5             Kerala                   469.30                  1214.98   \n",
              "6     Madhya Pradesh                  8888.39                 11946.44   \n",
              "7        Maharashtra                  1920.17                  2555.74   \n",
              "8             Odisha                  5807.45                  8985.73   \n",
              "9             Punjab                  1612.09                  1761.53   \n",
              "10         Rajasthan                     0.00                     0.00   \n",
              "11        Tamil Nadu                  3242.79                  3109.76   \n",
              "12         Telangana                  4858.89                  6879.59   \n",
              "13     Uttar Pradesh                     0.00                     0.00   \n",
              "14       Uttarakhand                   903.12                  1371.33   \n",
              "15       West Bengal                  2194.86                  8792.03   \n",
              "16         Jharkhand                     0.00                     3.66   \n",
              "17           Tripura                     0.00                    29.79   \n",
              "18               DBT                   204.24                   182.78   \n",
              "19             Total                 44944.36                 66901.77   \n",
              "\n",
              "    2021-22 (as on 31.03.2022)(Rs. in crores)  \\\n",
              "0                                     9323.38   \n",
              "1                                     7671.90   \n",
              "2                                     9047.77   \n",
              "3                                      749.43   \n",
              "4                                     1682.12   \n",
              "5                                     1777.86   \n",
              "6                                    14420.62   \n",
              "7                                     4082.07   \n",
              "8                                     7892.69   \n",
              "9                                     2047.53   \n",
              "10                                       0.00   \n",
              "11                                    6250.93   \n",
              "12                                    7665.02   \n",
              "13                                       0.00   \n",
              "14                                    1554.43   \n",
              "15                                    5421.34   \n",
              "16                                       0.00   \n",
              "17                                      15.58   \n",
              "18                                     186.87   \n",
              "19                                   79789.54   \n",
              "\n",
              "    2022-23(as on 31.05.2022) (Rs. in crores)  \\\n",
              "0                                        0.00   \n",
              "1                                        0.00   \n",
              "2                                        0.00   \n",
              "3                                        0.00   \n",
              "4                                        0.00   \n",
              "5                                        0.00   \n",
              "6                                        0.00   \n",
              "7                                        0.00   \n",
              "8                                        0.00   \n",
              "9                                        0.00   \n",
              "10                                       0.00   \n",
              "11                                       0.00   \n",
              "12                                       0.00   \n",
              "13                                       0.00   \n",
              "14                                       0.00   \n",
              "15                                       0.00   \n",
              "16                                       0.00   \n",
              "17                                       0.00   \n",
              "18                                      20.32   \n",
              "19                                      20.32   \n",
              "\n",
              "    2023-24(as on 31.05.2023) (Rs. in crores)  \n",
              "0                                      100.00  \n",
              "1                                      100.00  \n",
              "2                                      100.00  \n",
              "3                                      100.00  \n",
              "4                                      100.00  \n",
              "5                                      100.00  \n",
              "6                                      100.00  \n",
              "7                                      100.00  \n",
              "8                                      100.00  \n",
              "9                                      100.00  \n",
              "10                                     100.00  \n",
              "11                                     100.00  \n",
              "12                                     100.00  \n",
              "13                                     100.00  \n",
              "14                                     100.00  \n",
              "15                                     100.00  \n",
              "16                                     100.00  \n",
              "17                                     100.00  \n",
              "18                                     140.64  \n",
              "19                                     140.64  "
            ],
            "text/html": [
              "\n",
              "  <div id=\"df-737b0cc3-bdbe-4cb8-a4f3-c3bcccf16ed8\">\n",
              "    <div class=\"colab-df-container\">\n",
              "      <div>\n",
              "<style scoped>\n",
              "    .dataframe tbody tr th:only-of-type {\n",
              "        vertical-align: middle;\n",
              "    }\n",
              "\n",
              "    .dataframe tbody tr th {\n",
              "        vertical-align: top;\n",
              "    }\n",
              "\n",
              "    .dataframe thead th {\n",
              "        text-align: right;\n",
              "    }\n",
              "</style>\n",
              "<table border=\"1\" class=\"dataframe\">\n",
              "  <thead>\n",
              "    <tr style=\"text-align: right;\">\n",
              "      <th></th>\n",
              "      <th>Name of the State</th>\n",
              "      <th>2019-20 (Rs. in crores)</th>\n",
              "      <th>2020-21 (Rs. in crores)</th>\n",
              "      <th>2021-22 (as on 31.03.2022)(Rs. in crores)</th>\n",
              "      <th>2022-23(as on 31.05.2022) (Rs. in crores)</th>\n",
              "      <th>2023-24(as on 31.05.2023) (Rs. in crores)</th>\n",
              "    </tr>\n",
              "  </thead>\n",
              "  <tbody>\n",
              "    <tr>\n",
              "      <th>0</th>\n",
              "      <td>Andhra Pradesh</td>\n",
              "      <td>7404.42</td>\n",
              "      <td>8424.72</td>\n",
              "      <td>9323.38</td>\n",
              "      <td>0.00</td>\n",
              "      <td>100.00</td>\n",
              "    </tr>\n",
              "    <tr>\n",
              "      <th>1</th>\n",
              "      <td>Bihar</td>\n",
              "      <td>2535.71</td>\n",
              "      <td>4117.33</td>\n",
              "      <td>7671.90</td>\n",
              "      <td>0.00</td>\n",
              "      <td>100.00</td>\n",
              "    </tr>\n",
              "    <tr>\n",
              "      <th>2</th>\n",
              "      <td>Chhattisgarh</td>\n",
              "      <td>4628.11</td>\n",
              "      <td>7193.13</td>\n",
              "      <td>9047.77</td>\n",
              "      <td>0.00</td>\n",
              "      <td>100.00</td>\n",
              "    </tr>\n",
              "    <tr>\n",
              "      <th>3</th>\n",
              "      <td>Gujarat</td>\n",
              "      <td>69.03</td>\n",
              "      <td>9.24</td>\n",
              "      <td>749.43</td>\n",
              "      <td>0.00</td>\n",
              "      <td>100.00</td>\n",
              "    </tr>\n",
              "    <tr>\n",
              "      <th>4</th>\n",
              "      <td>Karnataka</td>\n",
              "      <td>205.79</td>\n",
              "      <td>323.99</td>\n",
              "      <td>1682.12</td>\n",
              "      <td>0.00</td>\n",
              "      <td>100.00</td>\n",
              "    </tr>\n",
              "    <tr>\n",
              "      <th>5</th>\n",
              "      <td>Kerala</td>\n",
              "      <td>469.30</td>\n",
              "      <td>1214.98</td>\n",
              "      <td>1777.86</td>\n",
              "      <td>0.00</td>\n",
              "      <td>100.00</td>\n",
              "    </tr>\n",
              "    <tr>\n",
              "      <th>6</th>\n",
              "      <td>Madhya Pradesh</td>\n",
              "      <td>8888.39</td>\n",
              "      <td>11946.44</td>\n",
              "      <td>14420.62</td>\n",
              "      <td>0.00</td>\n",
              "      <td>100.00</td>\n",
              "    </tr>\n",
              "    <tr>\n",
              "      <th>7</th>\n",
              "      <td>Maharashtra</td>\n",
              "      <td>1920.17</td>\n",
              "      <td>2555.74</td>\n",
              "      <td>4082.07</td>\n",
              "      <td>0.00</td>\n",
              "      <td>100.00</td>\n",
              "    </tr>\n",
              "    <tr>\n",
              "      <th>8</th>\n",
              "      <td>Odisha</td>\n",
              "      <td>5807.45</td>\n",
              "      <td>8985.73</td>\n",
              "      <td>7892.69</td>\n",
              "      <td>0.00</td>\n",
              "      <td>100.00</td>\n",
              "    </tr>\n",
              "    <tr>\n",
              "      <th>9</th>\n",
              "      <td>Punjab</td>\n",
              "      <td>1612.09</td>\n",
              "      <td>1761.53</td>\n",
              "      <td>2047.53</td>\n",
              "      <td>0.00</td>\n",
              "      <td>100.00</td>\n",
              "    </tr>\n",
              "    <tr>\n",
              "      <th>10</th>\n",
              "      <td>Rajasthan</td>\n",
              "      <td>0.00</td>\n",
              "      <td>0.00</td>\n",
              "      <td>0.00</td>\n",
              "      <td>0.00</td>\n",
              "      <td>100.00</td>\n",
              "    </tr>\n",
              "    <tr>\n",
              "      <th>11</th>\n",
              "      <td>Tamil Nadu</td>\n",
              "      <td>3242.79</td>\n",
              "      <td>3109.76</td>\n",
              "      <td>6250.93</td>\n",
              "      <td>0.00</td>\n",
              "      <td>100.00</td>\n",
              "    </tr>\n",
              "    <tr>\n",
              "      <th>12</th>\n",
              "      <td>Telangana</td>\n",
              "      <td>4858.89</td>\n",
              "      <td>6879.59</td>\n",
              "      <td>7665.02</td>\n",
              "      <td>0.00</td>\n",
              "      <td>100.00</td>\n",
              "    </tr>\n",
              "    <tr>\n",
              "      <th>13</th>\n",
              "      <td>Uttar Pradesh</td>\n",
              "      <td>0.00</td>\n",
              "      <td>0.00</td>\n",
              "      <td>0.00</td>\n",
              "      <td>0.00</td>\n",
              "      <td>100.00</td>\n",
              "    </tr>\n",
              "    <tr>\n",
              "      <th>14</th>\n",
              "      <td>Uttarakhand</td>\n",
              "      <td>903.12</td>\n",
              "      <td>1371.33</td>\n",
              "      <td>1554.43</td>\n",
              "      <td>0.00</td>\n",
              "      <td>100.00</td>\n",
              "    </tr>\n",
              "    <tr>\n",
              "      <th>15</th>\n",
              "      <td>West Bengal</td>\n",
              "      <td>2194.86</td>\n",
              "      <td>8792.03</td>\n",
              "      <td>5421.34</td>\n",
              "      <td>0.00</td>\n",
              "      <td>100.00</td>\n",
              "    </tr>\n",
              "    <tr>\n",
              "      <th>16</th>\n",
              "      <td>Jharkhand</td>\n",
              "      <td>0.00</td>\n",
              "      <td>3.66</td>\n",
              "      <td>0.00</td>\n",
              "      <td>0.00</td>\n",
              "      <td>100.00</td>\n",
              "    </tr>\n",
              "    <tr>\n",
              "      <th>17</th>\n",
              "      <td>Tripura</td>\n",
              "      <td>0.00</td>\n",
              "      <td>29.79</td>\n",
              "      <td>15.58</td>\n",
              "      <td>0.00</td>\n",
              "      <td>100.00</td>\n",
              "    </tr>\n",
              "    <tr>\n",
              "      <th>18</th>\n",
              "      <td>DBT</td>\n",
              "      <td>204.24</td>\n",
              "      <td>182.78</td>\n",
              "      <td>186.87</td>\n",
              "      <td>20.32</td>\n",
              "      <td>140.64</td>\n",
              "    </tr>\n",
              "    <tr>\n",
              "      <th>19</th>\n",
              "      <td>Total</td>\n",
              "      <td>44944.36</td>\n",
              "      <td>66901.77</td>\n",
              "      <td>79789.54</td>\n",
              "      <td>20.32</td>\n",
              "      <td>140.64</td>\n",
              "    </tr>\n",
              "  </tbody>\n",
              "</table>\n",
              "</div>\n",
              "      <button class=\"colab-df-convert\" onclick=\"convertToInteractive('df-737b0cc3-bdbe-4cb8-a4f3-c3bcccf16ed8')\"\n",
              "              title=\"Convert this dataframe to an interactive table.\"\n",
              "              style=\"display:none;\">\n",
              "        \n",
              "  <svg xmlns=\"http://www.w3.org/2000/svg\" height=\"24px\"viewBox=\"0 0 24 24\"\n",
              "       width=\"24px\">\n",
              "    <path d=\"M0 0h24v24H0V0z\" fill=\"none\"/>\n",
              "    <path d=\"M18.56 5.44l.94 2.06.94-2.06 2.06-.94-2.06-.94-.94-2.06-.94 2.06-2.06.94zm-11 1L8.5 8.5l.94-2.06 2.06-.94-2.06-.94L8.5 2.5l-.94 2.06-2.06.94zm10 10l.94 2.06.94-2.06 2.06-.94-2.06-.94-.94-2.06-.94 2.06-2.06.94z\"/><path d=\"M17.41 7.96l-1.37-1.37c-.4-.4-.92-.59-1.43-.59-.52 0-1.04.2-1.43.59L10.3 9.45l-7.72 7.72c-.78.78-.78 2.05 0 2.83L4 21.41c.39.39.9.59 1.41.59.51 0 1.02-.2 1.41-.59l7.78-7.78 2.81-2.81c.8-.78.8-2.07 0-2.86zM5.41 20L4 18.59l7.72-7.72 1.47 1.35L5.41 20z\"/>\n",
              "  </svg>\n",
              "      </button>\n",
              "      \n",
              "  <style>\n",
              "    .colab-df-container {\n",
              "      display:flex;\n",
              "      flex-wrap:wrap;\n",
              "      gap: 12px;\n",
              "    }\n",
              "\n",
              "    .colab-df-convert {\n",
              "      background-color: #E8F0FE;\n",
              "      border: none;\n",
              "      border-radius: 50%;\n",
              "      cursor: pointer;\n",
              "      display: none;\n",
              "      fill: #1967D2;\n",
              "      height: 32px;\n",
              "      padding: 0 0 0 0;\n",
              "      width: 32px;\n",
              "    }\n",
              "\n",
              "    .colab-df-convert:hover {\n",
              "      background-color: #E2EBFA;\n",
              "      box-shadow: 0px 1px 2px rgba(60, 64, 67, 0.3), 0px 1px 3px 1px rgba(60, 64, 67, 0.15);\n",
              "      fill: #174EA6;\n",
              "    }\n",
              "\n",
              "    [theme=dark] .colab-df-convert {\n",
              "      background-color: #3B4455;\n",
              "      fill: #D2E3FC;\n",
              "    }\n",
              "\n",
              "    [theme=dark] .colab-df-convert:hover {\n",
              "      background-color: #434B5C;\n",
              "      box-shadow: 0px 1px 3px 1px rgba(0, 0, 0, 0.15);\n",
              "      filter: drop-shadow(0px 1px 2px rgba(0, 0, 0, 0.3));\n",
              "      fill: #FFFFFF;\n",
              "    }\n",
              "  </style>\n",
              "\n",
              "      <script>\n",
              "        const buttonEl =\n",
              "          document.querySelector('#df-737b0cc3-bdbe-4cb8-a4f3-c3bcccf16ed8 button.colab-df-convert');\n",
              "        buttonEl.style.display =\n",
              "          google.colab.kernel.accessAllowed ? 'block' : 'none';\n",
              "\n",
              "        async function convertToInteractive(key) {\n",
              "          const element = document.querySelector('#df-737b0cc3-bdbe-4cb8-a4f3-c3bcccf16ed8');\n",
              "          const dataTable =\n",
              "            await google.colab.kernel.invokeFunction('convertToInteractive',\n",
              "                                                     [key], {});\n",
              "          if (!dataTable) return;\n",
              "\n",
              "          const docLinkHtml = 'Like what you see? Visit the ' +\n",
              "            '<a target=\"_blank\" href=https://colab.research.google.com/notebooks/data_table.ipynb>data table notebook</a>'\n",
              "            + ' to learn more about interactive tables.';\n",
              "          element.innerHTML = '';\n",
              "          dataTable['output_type'] = 'display_data';\n",
              "          await google.colab.output.renderOutput(dataTable, element);\n",
              "          const docLink = document.createElement('div');\n",
              "          docLink.innerHTML = docLinkHtml;\n",
              "          element.appendChild(docLink);\n",
              "        }\n",
              "      </script>\n",
              "    </div>\n",
              "  </div>\n",
              "  "
            ]
          },
          "metadata": {},
          "execution_count": 51
        }
      ]
    },
    {
      "cell_type": "markdown",
      "source": [
        "**11.a.** Calculate the central tendency measures for '2019-20 (Rs. in crores)'."
      ],
      "metadata": {
        "id": "sWG7j7gm8NOb"
      }
    },
    {
      "cell_type": "code",
      "source": [
        "print('Mean:',df['2019-20 (Rs. in crores)'].mean())\n",
        "print('Median:',df['2019-20 (Rs. in crores)'].median())\n",
        "print('Mode:',df['2019-20 (Rs. in crores)'].mode())"
      ],
      "metadata": {
        "colab": {
          "base_uri": "https://localhost:8080/"
        },
        "id": "sqeJ2maP8b1L",
        "outputId": "070dbb4f-c7ae-4954-f9f0-511b396ee87a"
      },
      "execution_count": null,
      "outputs": [
        {
          "output_type": "stream",
          "name": "stdout",
          "text": [
            "Mean: 4494.436\n",
            "Median: 1766.13\n",
            "Mode: 0    0.0\n",
            "dtype: float64\n"
          ]
        }
      ]
    },
    {
      "cell_type": "markdown",
      "source": [
        "**11.b.** Calculate the central tendency measures for '2020-21 (Rs. in crores)'."
      ],
      "metadata": {
        "id": "FTdqPgWY_gQ_"
      }
    },
    {
      "cell_type": "code",
      "source": [
        "print('Mean:',df['2020-21 (Rs. in crores)'].mean())\n",
        "print('Median:',df['2020-21 (Rs. in crores)'].median())\n",
        "print('Mode:',df['2020-21 (Rs. in crores)'].mode())"
      ],
      "metadata": {
        "colab": {
          "base_uri": "https://localhost:8080/"
        },
        "id": "XFG-BOc0_fYc",
        "outputId": "6106da42-8942-4ac8-e2c1-2eeca10ada40"
      },
      "execution_count": null,
      "outputs": [
        {
          "output_type": "stream",
          "name": "stdout",
          "text": [
            "Mean: 6690.177000000001\n",
            "Median: 2158.6349999999998\n",
            "Mode: 0    0.0\n",
            "dtype: float64\n"
          ]
        }
      ]
    },
    {
      "cell_type": "markdown",
      "source": [
        "**11.c.** Calculate the central tendency measures for '2020-21 (Rs. in crores)'."
      ],
      "metadata": {
        "id": "2eTNxUXCAWcf"
      }
    },
    {
      "cell_type": "code",
      "source": [
        "print('Mean:',df['2021-22 (as on 31.03.2022)(Rs. in crores)'].mean())\n",
        "print('Median:',df['2021-22 (as on 31.03.2022)(Rs. in crores)'].median())\n",
        "print('Mode:',df['2021-22 (as on 31.03.2022)(Rs. in crores)'].mode())"
      ],
      "metadata": {
        "colab": {
          "base_uri": "https://localhost:8080/"
        },
        "id": "B6nwiiv2Aafw",
        "outputId": "1177a937-76a2-4383-a49a-dc13c8253dc3"
      },
      "execution_count": null,
      "outputs": [
        {
          "output_type": "stream",
          "name": "stdout",
          "text": [
            "Mean: 7978.954\n",
            "Median: 3064.8\n",
            "Mode: 0    0.0\n",
            "dtype: float64\n"
          ]
        }
      ]
    },
    {
      "cell_type": "markdown",
      "source": [
        "**12.a.** Calculate the variability measures for '2019-20 (Rs. in crores)'."
      ],
      "metadata": {
        "id": "Ii74oKBK8ozq"
      }
    },
    {
      "cell_type": "code",
      "source": [
        "min=df['2019-20 (Rs. in crores)'].min()\n",
        "max=df['2019-20 (Rs. in crores)'].max()\n",
        "print(min,max)\n",
        "print('Range:',max-min)\n",
        "print('Variance:',df['2019-20 (Rs. in crores)'].var())\n",
        "print('Standard Deviation:',df['2019-20 (Rs. in crores)'].std())"
      ],
      "metadata": {
        "colab": {
          "base_uri": "https://localhost:8080/"
        },
        "id": "EbPJ4QE47S3M",
        "outputId": "31bc4b3f-9d74-47ba-f521-933f3120012e"
      },
      "execution_count": null,
      "outputs": [
        {
          "output_type": "stream",
          "name": "stdout",
          "text": [
            "0.0 44944.36\n",
            "Range: 44944.36\n",
            "Variance: 97776500.27129893\n",
            "Standard Deviation: 9888.20005214796\n"
          ]
        }
      ]
    },
    {
      "cell_type": "markdown",
      "source": [
        "**12.b.** Calculate the variability measures for '2020-21 (Rs. in crores)'."
      ],
      "metadata": {
        "id": "bD6-nC1pCsZT"
      }
    },
    {
      "cell_type": "code",
      "source": [
        "min=df['2020-21 (Rs. in crores)'].min()\n",
        "max=df['2020-21 (Rs. in crores)'].max()\n",
        "print(min,max)\n",
        "print('Range:',max-min)\n",
        "print('Variance:',df['2020-21 (Rs. in crores)'].var())\n",
        "print('Standard Deviation:',df['2020-21 (Rs. in crores)'].std())"
      ],
      "metadata": {
        "colab": {
          "base_uri": "https://localhost:8080/"
        },
        "id": "UC3Cry56Cxrf",
        "outputId": "784b4204-588d-47c1-f265-9c68189973ae"
      },
      "execution_count": null,
      "outputs": [
        {
          "output_type": "stream",
          "name": "stdout",
          "text": [
            "0.0 66901.77\n",
            "Range: 66901.77\n",
            "Variance: 215328300.3730116\n",
            "Standard Deviation: 14674.068978065068\n"
          ]
        }
      ]
    },
    {
      "cell_type": "markdown",
      "source": [
        "**12.c.** Calculate the variability measures for '2020-21 (Rs. in crores)'."
      ],
      "metadata": {
        "id": "ttUQh17gDhUG"
      }
    },
    {
      "cell_type": "code",
      "source": [
        "min=df['2021-22 (as on 31.03.2022)(Rs. in crores)'].min()\n",
        "max=df['2021-22 (as on 31.03.2022)(Rs. in crores)'].max()\n",
        "print(min,max)\n",
        "print('Range:',max-min)\n",
        "print('Variance:',df['2021-22 (as on 31.03.2022)(Rs. in crores)'].var())\n",
        "print('Standard Deviation:',df['2021-22 (as on 31.03.2022)(Rs. in crores)'].std())"
      ],
      "metadata": {
        "colab": {
          "base_uri": "https://localhost:8080/"
        },
        "id": "rEnMj0rMDf4I",
        "outputId": "748c3cd0-8d5c-4158-a3c4-8bf9a880d4a6"
      },
      "execution_count": null,
      "outputs": [
        {
          "output_type": "stream",
          "name": "stdout",
          "text": [
            "0.0 79789.54\n",
            "Range: 79789.54\n",
            "Variance: 302529875.3663621\n",
            "Standard Deviation: 17393.38596611833\n"
          ]
        }
      ]
    },
    {
      "cell_type": "markdown",
      "source": [
        "**13.a.** Calculate the IQR using quantile for '2020-21 (Rs. in crores)'."
      ],
      "metadata": {
        "id": "uaScwdOUaEus"
      }
    },
    {
      "cell_type": "code",
      "source": [
        "Q1=df['2019-20 (Rs. in crores)'].quantile(.25)\n",
        "Q3=df['2019-20 (Rs. in crores)'].quantile(.75)\n",
        "print('IQR:',Q3-Q1)"
      ],
      "metadata": {
        "colab": {
          "base_uri": "https://localhost:8080/"
        },
        "id": "X8sgiv_halbf",
        "outputId": "8ff14cb8-5c3d-4a32-d5a8-aab32bd5e6e6"
      },
      "execution_count": 3,
      "outputs": [
        {
          "output_type": "stream",
          "name": "stdout",
          "text": [
            "IQR: 4515.3675\n"
          ]
        }
      ]
    },
    {
      "cell_type": "markdown",
      "source": [
        "**13.b.** Calculate the IQR using quantile for '2020-21 (Rs. in crores)'."
      ],
      "metadata": {
        "id": "X5iR6-NB8_JN"
      }
    },
    {
      "cell_type": "code",
      "source": [
        "Q1=df['2020-21 (Rs. in crores)'].quantile(.25)\n",
        "Q3=df['2020-21 (Rs. in crores)'].quantile(.75)\n",
        "print('IQR:',Q3-Q1)"
      ],
      "metadata": {
        "colab": {
          "base_uri": "https://localhost:8080/"
        },
        "id": "3essbJuw9SeP",
        "outputId": "b652146f-378d-49a0-d9f0-14e0911a4eb6"
      },
      "execution_count": null,
      "outputs": [
        {
          "output_type": "stream",
          "name": "stdout",
          "text": [
            "IQR: 7356.495\n"
          ]
        }
      ]
    },
    {
      "cell_type": "markdown",
      "source": [
        "**13.c.** Calculate the IQR using quantile for '2020-21 (Rs. in crores)'."
      ],
      "metadata": {
        "id": "7sPNUK_0bsVQ"
      }
    },
    {
      "cell_type": "code",
      "source": [
        "Q1=df['2021-22 (as on 31.03.2022)(Rs. in crores)'].quantile(.25)\n",
        "Q3=df['2021-22 (as on 31.03.2022)(Rs. in crores)'].quantile(.75)\n",
        "print('IQR:',Q3-Q1)"
      ],
      "metadata": {
        "colab": {
          "base_uri": "https://localhost:8080/"
        },
        "id": "u7jedB2rbvIX",
        "outputId": "24191ad0-331e-4121-8d6c-9a5857fb2015"
      },
      "execution_count": 4,
      "outputs": [
        {
          "output_type": "stream",
          "name": "stdout",
          "text": [
            "IQR: 7118.3075\n"
          ]
        }
      ]
    },
    {
      "cell_type": "markdown",
      "source": [
        "**14.** Calculate the z-score for '2020-21 (Rs. in crores)'."
      ],
      "metadata": {
        "id": "NP0Ui2kQ9qr4"
      }
    },
    {
      "cell_type": "code",
      "source": [
        "import scipy.stats as stats\n",
        "Zscore=stats.zscore(df['2020-21 (Rs. in crores)'])\n",
        "print('Zscore:',Zscore)"
      ],
      "metadata": {
        "colab": {
          "base_uri": "https://localhost:8080/"
        },
        "id": "RBPjSCuT9x1s",
        "outputId": "9927548d-e496-44eb-9ace-e47b875161b7"
      },
      "execution_count": 8,
      "outputs": [
        {
          "output_type": "stream",
          "name": "stdout",
          "text": [
            "Zscore: 0     0.121275\n",
            "1    -0.179888\n",
            "2     0.035165\n",
            "3    -0.467116\n",
            "4    -0.445110\n",
            "5    -0.382814\n",
            "6     0.367506\n",
            "7    -0.289071\n",
            "8     0.160500\n",
            "9    -0.344600\n",
            "10   -0.467762\n",
            "11   -0.250335\n",
            "12    0.013243\n",
            "13   -0.467762\n",
            "14   -0.371882\n",
            "15    0.146957\n",
            "16   -0.467506\n",
            "17   -0.465679\n",
            "18   -0.454983\n",
            "19    4.209861\n",
            "Name: 2020-21 (Rs. in crores), dtype: float64\n"
          ]
        }
      ]
    },
    {
      "cell_type": "markdown",
      "source": [
        "**15.** Detect the outliers in updated '2019-20 (Rs. in crores)' with boxplot."
      ],
      "metadata": {
        "id": "nrrvAhRIEZ1y"
      }
    },
    {
      "cell_type": "code",
      "source": [
        "import seaborn as sns\n",
        "sns.catplot(x='2019-20 (Rs. in crores)',kind='box',data=df)\n",
        "print('Mean',df['2019-20 (Rs. in crores)'].mean())\n",
        "print('Median:',df['2019-20 (Rs. in crores)'].median())\n",
        "print('Mode:',df['2019-20 (Rs. in crores)'].mode())"
      ],
      "metadata": {
        "id": "7LV35ib-_OiI",
        "colab": {
          "base_uri": "https://localhost:8080/",
          "height": 438
        },
        "outputId": "b9d1dd08-b479-487a-fe81-36d522d648e6"
      },
      "execution_count": 10,
      "outputs": [
        {
          "output_type": "stream",
          "name": "stdout",
          "text": [
            "Mean 4494.436\n",
            "Median: 1766.13\n",
            "Mode: 0    0.0\n",
            "dtype: float64\n"
          ]
        },
        {
          "output_type": "display_data",
          "data": {
            "text/plain": [
              "<Figure size 360x360 with 1 Axes>"
            ],
            "image/png": "[encoded data removed]"
          },
          "metadata": {
            "needs_background": "light"
          }
        }
      ]
    },
    {
      "cell_type": "markdown",
      "source": [
        "**16.** Remove the outliers using IQR by recalculating IQR in updated '2019-20 (Rs. in crores)' and analyse with boxplot."
      ],
      "metadata": {
        "id": "x2IU5RDoErJz"
      }
    },
    {
      "cell_type": "code",
      "source": [
        "Ql=df['2019-20 (Rs. in crores)'].quantile(.25)\n",
        "Q3=df['2019-20 (Rs. in crores)'].quantile(.75)\n",
        "IQR=Q3-Q1\n",
        "print('IQR:',Q3-Q1)\n",
        "lb=Q1-1.5*IQR\n",
        "ub=Q3+1.5*IQR\n",
        "dfout=df[(df['2019-20 (Rs. in crores)']>lb) & (df['2019-20 (Rs. in crores)']<ub) ]\n",
        "dfout.shape\n",
        "dfout.tail()\n",
        "sns.catplot(x='2019-20 (Rs. in crores)',kind='box',data=dfout)"
      ],
      "metadata": {
        "colab": {
          "base_uri": "https://localhost:8080/",
          "height": 404
        },
        "id": "SiuwT50TE3CN",
        "outputId": "76d12c51-63a6-479c-a34d-6830516d9445"
      },
      "execution_count": 75,
      "outputs": [
        {
          "output_type": "stream",
          "name": "stdout",
          "text": [
            "IQR: 4541.2725\n"
          ]
        },
        {
          "output_type": "execute_result",
          "data": {
            "text/plain": [
              "<seaborn.axisgrid.FacetGrid at 0x7fc5e853d430>"
            ]
          },
          "metadata": {},
          "execution_count": 75
        },
        {
          "output_type": "display_data",
          "data": {
            "text/plain": [
              "<Figure size 360x360 with 1 Axes>"
            ],
            "image/png": "[encoded data removed]"
          },
          "metadata": {
            "needs_background": "light"
          }
        }
      ]
    },
    {
      "cell_type": "markdown",
      "source": [
        "**17.** Remove the outliers using z-score by recalculating z-score in updated '2020-21 (Rs. in crores)' and analyse with boxplot."
      ],
      "metadata": {
        "id": "1TlVh4y_FGIb"
      }
    },
    {
      "cell_type": "code",
      "source": [
        "zscore=stats.zscore(df['2020-21 (Rs. in crores)'])\n",
        "print('Zscore:',zscore)\n",
        "filter=((zscore > -1) &(zscore < 2))\n",
        "newdf=df[filter]\n",
        "newdf.tail()\n",
        "sns.catplot(x='2020-21 (Rs. in crores)',kind='box',data=newdf)"
      ],
      "metadata": {
        "colab": {
          "base_uri": "https://localhost:8080/",
          "height": 751
        },
        "id": "3_h6pxbeFTQj",
        "outputId": "aa50afce-c306-44e9-c4e3-7893ad4dd89e"
      },
      "execution_count": 11,
      "outputs": [
        {
          "output_type": "stream",
          "name": "stdout",
          "text": [
            "Zscore: 0     0.121275\n",
            "1    -0.179888\n",
            "2     0.035165\n",
            "3    -0.467116\n",
            "4    -0.445110\n",
            "5    -0.382814\n",
            "6     0.367506\n",
            "7    -0.289071\n",
            "8     0.160500\n",
            "9    -0.344600\n",
            "10   -0.467762\n",
            "11   -0.250335\n",
            "12    0.013243\n",
            "13   -0.467762\n",
            "14   -0.371882\n",
            "15    0.146957\n",
            "16   -0.467506\n",
            "17   -0.465679\n",
            "18   -0.454983\n",
            "19    4.209861\n",
            "Name: 2020-21 (Rs. in crores), dtype: float64\n"
          ]
        },
        {
          "output_type": "execute_result",
          "data": {
            "text/plain": [
              "<seaborn.axisgrid.FacetGrid at 0x7f8bd57fbe50>"
            ]
          },
          "metadata": {},
          "execution_count": 11
        },
        {
          "output_type": "display_data",
          "data": {
            "text/plain": [
              "<Figure size 360x360 with 1 Axes>"
            ],
            "image/png": "[encoded data removed]"
          },
          "metadata": {
            "needs_background": "light"
          }
        }
      ]
    },
    {
      "cell_type": "markdown",
      "source": [
        "**18.** Plot the heatmap using the correlation."
      ],
      "metadata": {
        "id": "skf7a9j_Fs9L"
      }
    },
    {
      "cell_type": "code",
      "source": [
        "import seaborn as sns\n",
        "t=df[['2019-20 (Rs. in crores)','2020-21 (Rs. in crores)','2021-22 (as on 31.03.2022)(Rs. in crores)']]\n",
        "c=t.corr()\n",
        "sns.heatmap(c,xticklabels=c.columns,annot=True)"
      ],
      "metadata": {
        "colab": {
          "base_uri": "https://localhost:8080/",
          "height": 485
        },
        "id": "ODseShiRFwuW",
        "outputId": "0b53e2e8-5b87-4db1-cd9d-977b620f2aca"
      },
      "execution_count": 77,
      "outputs": [
        {
          "output_type": "execute_result",
          "data": {
            "text/plain": [
              "<AxesSubplot:>"
            ]
          },
          "metadata": {},
          "execution_count": 77
        },
        {
          "output_type": "display_data",
          "data": {
            "text/plain": [
              "<Figure size 432x288 with 2 Axes>"
            ],
            "image/png": "[encoded data removed]"
          },
          "metadata": {
            "needs_background": "light"
          }
        }
      ]
    },
    {
      "cell_type": "markdown",
      "source": [
        "**19.** Plot a comparitive garph for all the three years ."
      ],
      "metadata": {
        "id": "ZQWDuyQnGNwW"
      }
    },
    {
      "cell_type": "code",
      "source": [
        "import numpy as np\n",
        "N=10\n",
        "ind=np.arange(N)\n",
        "width=0.25\n",
        "xval=df['2019-20 (Rs. in crores)'].head(10)\n",
        "bar1=plt.bar(ind,xval,width,color='r')\n",
        "\n",
        "yval=df['2020-21 (Rs. in crores)'].head(10)\n",
        "bar2=plt.bar(ind+width,yval,width,color='g')\n",
        "\n",
        "zval=df['2021-22 (as on 31.03.2022)(Rs. in crores)'].head(10)\n",
        "bar3=plt.bar(ind+width,yval,width,color='b')\n",
        "\n",
        "plt.xlabel(\"2019-20 (Rs. in crores)\")\n",
        "plt.ylabel(\"2020-21 (Rs. in crores)\")\n",
        "plt.xticks(ind+width,df['Name of the State'])\n",
        "plt.legend((bar1,bar2,bar3)),('2019-20 (Rs. in crores)','2020-21 (Rs. in crores)', '2021-22 (as on 31.03.2022)(Rs. in crores)')"
      ],
      "metadata": {
        "colab": {
          "base_uri": "https://localhost:8080/",
          "height": 625
        },
        "id": "YHU8r2mk3vlN",
        "outputId": "ac3cf8df-85f6-4241-d037-e513f3c5473a"
      },
      "execution_count": 93,
      "outputs": [
        {
          "output_type": "error",
          "ename": "ValueError",
          "evalue": "ignored",
          "traceback": [
            "\u001b[0;31m---------------------------------------------------------------------------\u001b[0m",
            "\u001b[0;31mValueError\u001b[0m                                Traceback (most recent call last)",
            "\u001b[0;32m<ipython-input-93-5460207e0e62>\u001b[0m in \u001b[0;36m<module>\u001b[0;34m\u001b[0m\n\u001b[1;32m     14\u001b[0m \u001b[0mplt\u001b[0m\u001b[0;34m.\u001b[0m\u001b[0mxlabel\u001b[0m\u001b[0;34m(\u001b[0m\u001b[0;34m\"2019-20 (Rs. in crores)\"\u001b[0m\u001b[0;34m)\u001b[0m\u001b[0;34m\u001b[0m\u001b[0;34m\u001b[0m\u001b[0m\n\u001b[1;32m     15\u001b[0m \u001b[0mplt\u001b[0m\u001b[0;34m.\u001b[0m\u001b[0mylabel\u001b[0m\u001b[0;34m(\u001b[0m\u001b[0;34m\"2020-21 (Rs. in crores)\"\u001b[0m\u001b[0;34m)\u001b[0m\u001b[0;34m\u001b[0m\u001b[0;34m\u001b[0m\u001b[0m\n\u001b[0;32m---> 16\u001b[0;31m \u001b[0mplt\u001b[0m\u001b[0;34m.\u001b[0m\u001b[0mxticks\u001b[0m\u001b[0;34m(\u001b[0m\u001b[0mind\u001b[0m\u001b[0;34m+\u001b[0m\u001b[0mwidth\u001b[0m\u001b[0;34m,\u001b[0m\u001b[0mdf\u001b[0m\u001b[0;34m[\u001b[0m\u001b[0;34m'Name of the State'\u001b[0m\u001b[0;34m]\u001b[0m\u001b[0;34m)\u001b[0m\u001b[0;34m\u001b[0m\u001b[0;34m\u001b[0m\u001b[0m\n\u001b[0m\u001b[1;32m     17\u001b[0m \u001b[0mplt\u001b[0m\u001b[0;34m.\u001b[0m\u001b[0mlegend\u001b[0m\u001b[0;34m(\u001b[0m\u001b[0;34m(\u001b[0m\u001b[0mbar1\u001b[0m\u001b[0;34m,\u001b[0m\u001b[0mbar2\u001b[0m\u001b[0;34m,\u001b[0m\u001b[0mbar3\u001b[0m\u001b[0;34m)\u001b[0m\u001b[0;34m)\u001b[0m\u001b[0;34m,\u001b[0m\u001b[0;34m(\u001b[0m\u001b[0;34m'2019-20 (Rs. in crores)'\u001b[0m\u001b[0;34m,\u001b[0m\u001b[0;34m'2020-21 (Rs. in crores)'\u001b[0m\u001b[0;34m,\u001b[0m \u001b[0;34m'2021-22 (as on 31.03.2022)(Rs. in crores)'\u001b[0m\u001b[0;34m)\u001b[0m\u001b[0;34m\u001b[0m\u001b[0;34m\u001b[0m\u001b[0m\n",
            "\u001b[0;32m/usr/local/lib/python3.8/dist-packages/matplotlib/pyplot.py\u001b[0m in \u001b[0;36mxticks\u001b[0;34m(ticks, labels, **kwargs)\u001b[0m\n\u001b[1;32m   1812\u001b[0m             \u001b[0ml\u001b[0m\u001b[0;34m.\u001b[0m\u001b[0mupdate\u001b[0m\u001b[0;34m(\u001b[0m\u001b[0mkwargs\u001b[0m\u001b[0;34m)\u001b[0m\u001b[0;34m\u001b[0m\u001b[0;34m\u001b[0m\u001b[0m\n\u001b[1;32m   1813\u001b[0m     \u001b[0;32melse\u001b[0m\u001b[0;34m:\u001b[0m\u001b[0;34m\u001b[0m\u001b[0;34m\u001b[0m\u001b[0m\n\u001b[0;32m-> 1814\u001b[0;31m         \u001b[0mlabels\u001b[0m \u001b[0;34m=\u001b[0m \u001b[0max\u001b[0m\u001b[0;34m.\u001b[0m\u001b[0mset_xticklabels\u001b[0m\u001b[0;34m(\u001b[0m\u001b[0mlabels\u001b[0m\u001b[0;34m,\u001b[0m \u001b[0;34m**\u001b[0m\u001b[0mkwargs\u001b[0m\u001b[0;34m)\u001b[0m\u001b[0;34m\u001b[0m\u001b[0;34m\u001b[0m\u001b[0m\n\u001b[0m\u001b[1;32m   1815\u001b[0m \u001b[0;34m\u001b[0m\u001b[0m\n\u001b[1;32m   1816\u001b[0m     \u001b[0;32mreturn\u001b[0m \u001b[0mlocs\u001b[0m\u001b[0;34m,\u001b[0m \u001b[0mlabels\u001b[0m\u001b[0;34m\u001b[0m\u001b[0;34m\u001b[0m\u001b[0m\n",
            "\u001b[0;32m/usr/local/lib/python3.8/dist-packages/matplotlib/axes/_base.py\u001b[0m in \u001b[0;36mwrapper\u001b[0;34m(self, *args, **kwargs)\u001b[0m\n\u001b[1;32m     73\u001b[0m \u001b[0;34m\u001b[0m\u001b[0m\n\u001b[1;32m     74\u001b[0m         \u001b[0;32mdef\u001b[0m \u001b[0mwrapper\u001b[0m\u001b[0;34m(\u001b[0m\u001b[0mself\u001b[0m\u001b[0;34m,\u001b[0m \u001b[0;34m*\u001b[0m\u001b[0margs\u001b[0m\u001b[0;34m,\u001b[0m \u001b[0;34m**\u001b[0m\u001b[0mkwargs\u001b[0m\u001b[0;34m)\u001b[0m\u001b[0;34m:\u001b[0m\u001b[0;34m\u001b[0m\u001b[0;34m\u001b[0m\u001b[0m\n\u001b[0;32m---> 75\u001b[0;31m             \u001b[0;32mreturn\u001b[0m \u001b[0mget_method\u001b[0m\u001b[0;34m(\u001b[0m\u001b[0mself\u001b[0m\u001b[0;34m)\u001b[0m\u001b[0;34m(\u001b[0m\u001b[0;34m*\u001b[0m\u001b[0margs\u001b[0m\u001b[0;34m,\u001b[0m \u001b[0;34m**\u001b[0m\u001b[0mkwargs\u001b[0m\u001b[0;34m)\u001b[0m\u001b[0;34m\u001b[0m\u001b[0;34m\u001b[0m\u001b[0m\n\u001b[0m\u001b[1;32m     76\u001b[0m \u001b[0;34m\u001b[0m\u001b[0m\n\u001b[1;32m     77\u001b[0m         \u001b[0mwrapper\u001b[0m\u001b[0;34m.\u001b[0m\u001b[0m__module__\u001b[0m \u001b[0;34m=\u001b[0m \u001b[0mowner\u001b[0m\u001b[0;34m.\u001b[0m\u001b[0m__module__\u001b[0m\u001b[0;34m\u001b[0m\u001b[0;34m\u001b[0m\u001b[0m\n",
            "\u001b[0;32m/usr/local/lib/python3.8/dist-packages/matplotlib/axis.py\u001b[0m in \u001b[0;36m_set_ticklabels\u001b[0;34m(self, labels, fontdict, minor, **kwargs)\u001b[0m\n\u001b[1;32m   1796\u001b[0m         \u001b[0;32mif\u001b[0m \u001b[0mfontdict\u001b[0m \u001b[0;32mis\u001b[0m \u001b[0;32mnot\u001b[0m \u001b[0;32mNone\u001b[0m\u001b[0;34m:\u001b[0m\u001b[0;34m\u001b[0m\u001b[0;34m\u001b[0m\u001b[0m\n\u001b[1;32m   1797\u001b[0m             \u001b[0mkwargs\u001b[0m\u001b[0;34m.\u001b[0m\u001b[0mupdate\u001b[0m\u001b[0;34m(\u001b[0m\u001b[0mfontdict\u001b[0m\u001b[0;34m)\u001b[0m\u001b[0;34m\u001b[0m\u001b[0;34m\u001b[0m\u001b[0m\n\u001b[0;32m-> 1798\u001b[0;31m         \u001b[0;32mreturn\u001b[0m \u001b[0mself\u001b[0m\u001b[0;34m.\u001b[0m\u001b[0mset_ticklabels\u001b[0m\u001b[0;34m(\u001b[0m\u001b[0mlabels\u001b[0m\u001b[0;34m,\u001b[0m \u001b[0mminor\u001b[0m\u001b[0;34m=\u001b[0m\u001b[0mminor\u001b[0m\u001b[0;34m,\u001b[0m \u001b[0;34m**\u001b[0m\u001b[0mkwargs\u001b[0m\u001b[0;34m)\u001b[0m\u001b[0;34m\u001b[0m\u001b[0;34m\u001b[0m\u001b[0m\n\u001b[0m\u001b[1;32m   1799\u001b[0m \u001b[0;34m\u001b[0m\u001b[0m\n\u001b[1;32m   1800\u001b[0m     \u001b[0;32mdef\u001b[0m \u001b[0m_set_tick_locations\u001b[0m\u001b[0;34m(\u001b[0m\u001b[0mself\u001b[0m\u001b[0;34m,\u001b[0m \u001b[0mticks\u001b[0m\u001b[0;34m,\u001b[0m \u001b[0;34m*\u001b[0m\u001b[0;34m,\u001b[0m \u001b[0mminor\u001b[0m\u001b[0;34m=\u001b[0m\u001b[0;32mFalse\u001b[0m\u001b[0;34m)\u001b[0m\u001b[0;34m:\u001b[0m\u001b[0;34m\u001b[0m\u001b[0;34m\u001b[0m\u001b[0m\n",
            "\u001b[0;32m/usr/local/lib/python3.8/dist-packages/matplotlib/axis.py\u001b[0m in \u001b[0;36mset_ticklabels\u001b[0;34m(self, ticklabels, minor, **kwargs)\u001b[0m\n\u001b[1;32m   1718\u001b[0m             \u001b[0;31m# remove all tick labels, so only error for > 0 ticklabels\u001b[0m\u001b[0;34m\u001b[0m\u001b[0;34m\u001b[0m\u001b[0;34m\u001b[0m\u001b[0m\n\u001b[1;32m   1719\u001b[0m             \u001b[0;32mif\u001b[0m \u001b[0mlen\u001b[0m\u001b[0;34m(\u001b[0m\u001b[0mlocator\u001b[0m\u001b[0;34m.\u001b[0m\u001b[0mlocs\u001b[0m\u001b[0;34m)\u001b[0m \u001b[0;34m!=\u001b[0m \u001b[0mlen\u001b[0m\u001b[0;34m(\u001b[0m\u001b[0mticklabels\u001b[0m\u001b[0;34m)\u001b[0m \u001b[0;32mand\u001b[0m \u001b[0mlen\u001b[0m\u001b[0;34m(\u001b[0m\u001b[0mticklabels\u001b[0m\u001b[0;34m)\u001b[0m \u001b[0;34m!=\u001b[0m \u001b[0;36m0\u001b[0m\u001b[0;34m:\u001b[0m\u001b[0;34m\u001b[0m\u001b[0;34m\u001b[0m\u001b[0m\n\u001b[0;32m-> 1720\u001b[0;31m                 raise ValueError(\n\u001b[0m\u001b[1;32m   1721\u001b[0m                     \u001b[0;34m\"The number of FixedLocator locations\"\u001b[0m\u001b[0;34m\u001b[0m\u001b[0;34m\u001b[0m\u001b[0m\n\u001b[1;32m   1722\u001b[0m                     \u001b[0;34mf\" ({len(locator.locs)}), usually from a call to\"\u001b[0m\u001b[0;34m\u001b[0m\u001b[0;34m\u001b[0m\u001b[0m\n",
            "\u001b[0;31mValueError\u001b[0m: The number of FixedLocator locations (10), usually from a call to set_ticks, does not match the number of ticklabels (20)."
          ]
        },
        {
          "output_type": "display_data",
          "data": {
            "text/plain": [
              "<Figure size 432x288 with 1 Axes>"
            ],
            "image/png": "[encoded data removed]"
          },
          "metadata": {
            "needs_background": "light"
          }
        }
      ]
    },
    {
      "cell_type": "code",
      "source": [
        "import pandas as pd \n",
        "import numpy as np\n",
        "import seaborn as sns\n",
        "import matplotlib.pyplot as plt\n",
        "import sklearn\n",
        "from sklearn.linear_model import LinearRegression\n",
        "from sklearn.preprocessing import LabelEncoder\n",
        "from sklearn.metrics import mean_squared_error,r2_score\n",
        "from sklearn.model_selection import train_test_split"
      ],
      "metadata": {
        "id": "0z_CZt1LGc5U"
      },
      "execution_count": 13,
      "outputs": []
    },
    {
      "cell_type": "code",
      "source": [
        "x = df.iloc[:,:-1]\n",
        "y = df.iloc[:,-1]"
      ],
      "metadata": {
        "id": "QVl1Z_xcwntl"
      },
      "execution_count": 59,
      "outputs": []
    },
    {
      "cell_type": "code",
      "source": [
        "# Split the data into training and testing sets\n",
        "X = df[['2019-20 (Rs. in crores)', '2020-21 (Rs. in crores)', '2021-22 (as on 31.03.2022)(Rs. in crores)']]\n",
        "y = df['2021-22 (as on 31.03.2022)(Rs. in crores)']\n",
        "X_train, X_test, y_train, y_test = train_test_split(X, y, test_size=0.2, random_state=0)"
      ],
      "metadata": {
        "id": "uqDE_KY1f4-h"
      },
      "execution_count": 74,
      "outputs": []
    },
    {
      "cell_type": "code",
      "source": [
        "X_train, X_test, y_train, y_test = train_test_split(X, y, test_size=0.2, random_state=2)"
      ],
      "metadata": {
        "id": "dbKw_-W1tSUK"
      },
      "execution_count": 75,
      "outputs": []
    },
    {
      "cell_type": "code",
      "source": [
        "# Train the model\n",
        "model = LinearRegression()\n",
        "model.fit(X_train, y_train)\n"
      ],
      "metadata": {
        "colab": {
          "base_uri": "https://localhost:8080/",
          "height": 74
        },
        "id": "twE4HxyigNGi",
        "outputId": "88aed7ec-b0a7-496c-fa54-8d1108e1b66c"
      },
      "execution_count": 76,
      "outputs": [
        {
          "output_type": "execute_result",
          "data": {
            "text/plain": [
              "LinearRegression()"
            ],
            "text/html": [
              "<style>#sk-container-id-4 {color: black;background-color: white;}#sk-container-id-4 pre{padding: 0;}#sk-container-id-4 div.sk-toggleable {background-color: white;}#sk-container-id-4 label.sk-toggleable__label {cursor: pointer;display: block;width: 100%;margin-bottom: 0;padding: 0.3em;box-sizing: border-box;text-align: center;}#sk-container-id-4 label.sk-toggleable__label-arrow:before {content: \"▸\";float: left;margin-right: 0.25em;color: #696969;}#sk-container-id-4 label.sk-toggleable__label-arrow:hover:before {color: black;}#sk-container-id-4 div.sk-estimator:hover label.sk-toggleable__label-arrow:before {color: black;}#sk-container-id-4 div.sk-toggleable__content {max-height: 0;max-width: 0;overflow: hidden;text-align: left;background-color: #f0f8ff;}#sk-container-id-4 div.sk-toggleable__content pre {margin: 0.2em;color: black;border-radius: 0.25em;background-color: #f0f8ff;}#sk-container-id-4 input.sk-toggleable__control:checked~div.sk-toggleable__content {max-height: 200px;max-width: 100%;overflow: auto;}#sk-container-id-4 input.sk-toggleable__control:checked~label.sk-toggleable__label-arrow:before {content: \"▾\";}#sk-container-id-4 div.sk-estimator input.sk-toggleable__control:checked~label.sk-toggleable__label {background-color: #d4ebff;}#sk-container-id-4 div.sk-label input.sk-toggleable__control:checked~label.sk-toggleable__label {background-color: #d4ebff;}#sk-container-id-4 input.sk-hidden--visually {border: 0;clip: rect(1px 1px 1px 1px);clip: rect(1px, 1px, 1px, 1px);height: 1px;margin: -1px;overflow: hidden;padding: 0;position: absolute;width: 1px;}#sk-container-id-4 div.sk-estimator {font-family: monospace;background-color: #f0f8ff;border: 1px dotted black;border-radius: 0.25em;box-sizing: border-box;margin-bottom: 0.5em;}#sk-container-id-4 div.sk-estimator:hover {background-color: #d4ebff;}#sk-container-id-4 div.sk-parallel-item::after {content: \"\";width: 100%;border-bottom: 1px solid gray;flex-grow: 1;}#sk-container-id-4 div.sk-label:hover label.sk-toggleable__label {background-color: #d4ebff;}#sk-container-id-4 div.sk-serial::before {content: \"\";position: absolute;border-left: 1px solid gray;box-sizing: border-box;top: 0;bottom: 0;left: 50%;z-index: 0;}#sk-container-id-4 div.sk-serial {display: flex;flex-direction: column;align-items: center;background-color: white;padding-right: 0.2em;padding-left: 0.2em;position: relative;}#sk-container-id-4 div.sk-item {position: relative;z-index: 1;}#sk-container-id-4 div.sk-parallel {display: flex;align-items: stretch;justify-content: center;background-color: white;position: relative;}#sk-container-id-4 div.sk-item::before, #sk-container-id-4 div.sk-parallel-item::before {content: \"\";position: absolute;border-left: 1px solid gray;box-sizing: border-box;top: 0;bottom: 0;left: 50%;z-index: -1;}#sk-container-id-4 div.sk-parallel-item {display: flex;flex-direction: column;z-index: 1;position: relative;background-color: white;}#sk-container-id-4 div.sk-parallel-item:first-child::after {align-self: flex-end;width: 50%;}#sk-container-id-4 div.sk-parallel-item:last-child::after {align-self: flex-start;width: 50%;}#sk-container-id-4 div.sk-parallel-item:only-child::after {width: 0;}#sk-container-id-4 div.sk-dashed-wrapped {border: 1px dashed gray;margin: 0 0.4em 0.5em 0.4em;box-sizing: border-box;padding-bottom: 0.4em;background-color: white;}#sk-container-id-4 div.sk-label label {font-family: monospace;font-weight: bold;display: inline-block;line-height: 1.2em;}#sk-container-id-4 div.sk-label-container {text-align: center;}#sk-container-id-4 div.sk-container {/* jupyter's `normalize.less` sets `[hidden] { display: none; }` but bootstrap.min.css set `[hidden] { display: none !important; }` so we also need the `!important` here to be able to override the default hidden behavior on the sphinx rendered scikit-learn.org. See: https://github.com/scikit-learn/scikit-learn/issues/21755 */display: inline-block !important;position: relative;}#sk-container-id-4 div.sk-text-repr-fallback {display: none;}</style><div id=\"sk-container-id-4\" class=\"sk-top-container\"><div class=\"sk-text-repr-fallback\"><pre>LinearRegression()</pre><b>In a Jupyter environment, please rerun this cell to show the HTML representation or trust the notebook. <br />On GitHub, the HTML representation is unable to render, please try loading this page with nbviewer.org.</b></div><div class=\"sk-container\" hidden><div class=\"sk-item\"><div class=\"sk-estimator sk-toggleable\"><input class=\"sk-toggleable__control sk-hidden--visually\" id=\"sk-estimator-id-4\" type=\"checkbox\" checked><label for=\"sk-estimator-id-4\" class=\"sk-toggleable__label sk-toggleable__label-arrow\">LinearRegression</label><div class=\"sk-toggleable__content\"><pre>LinearRegression()</pre></div></div></div></div></div>"
            ]
          },
          "metadata": {},
          "execution_count": 76
        }
      ]
    },
    {
      "cell_type": "code",
      "source": [
        "x"
      ],
      "metadata": {
        "colab": {
          "base_uri": "https://localhost:8080/",
          "height": 676
        },
        "id": "ftunUF6SqSNC",
        "outputId": "cfd8c8b0-6a68-4003-a223-be82cea2edfb"
      },
      "execution_count": 43,
      "outputs": [
        {
          "output_type": "execute_result",
          "data": {
            "text/plain": [
              "    S.No. Name of the State  2019-20 (Rs. in crores)  2020-21 (Rs. in crores)  \\\n",
              "0     1.0    Andhra Pradesh                  7404.42                  8424.72   \n",
              "1     2.0             Bihar                  2535.71                  4117.33   \n",
              "2     3.0      Chhattisgarh                  4628.11                  7193.13   \n",
              "3     4.0           Gujarat                    69.03                     9.24   \n",
              "4     5.0         Karnataka                   205.79                   323.99   \n",
              "5     6.0            Kerala                   469.30                  1214.98   \n",
              "6     7.0    Madhya Pradesh                  8888.39                 11946.44   \n",
              "7     8.0       Maharashtra                  1920.17                  2555.74   \n",
              "8     9.0            Odisha                  5807.45                  8985.73   \n",
              "9    10.0            Punjab                  1612.09                  1761.53   \n",
              "10   11.0         Rajasthan                     0.00                     0.00   \n",
              "11   12.0        Tamil Nadu                  3242.79                  3109.76   \n",
              "12   13.0         Telangana                  4858.89                  6879.59   \n",
              "13   14.0     Uttar Pradesh                     0.00                     0.00   \n",
              "14   15.0       Uttarakhand                   903.12                  1371.33   \n",
              "15   16.0       West Bengal                  2194.86                  8792.03   \n",
              "16   17.0         Jharkhand                     0.00                     3.66   \n",
              "17   18.0           Tripura                     0.00                    29.79   \n",
              "18   19.0               DBT                   204.24                   182.78   \n",
              "19   20.0             Total                 44944.36                 66901.77   \n",
              "\n",
              "    2021-22 (as on 31.03.2022)(Rs. in crores)  \n",
              "0                                     9323.38  \n",
              "1                                     7671.90  \n",
              "2                                     9047.77  \n",
              "3                                      749.43  \n",
              "4                                     1682.12  \n",
              "5                                     1777.86  \n",
              "6                                    14420.62  \n",
              "7                                     4082.07  \n",
              "8                                     7892.69  \n",
              "9                                     2047.53  \n",
              "10                                       0.00  \n",
              "11                                    6250.93  \n",
              "12                                    7665.02  \n",
              "13                                       0.00  \n",
              "14                                    1554.43  \n",
              "15                                    5421.34  \n",
              "16                                       0.00  \n",
              "17                                      15.58  \n",
              "18                                     186.87  \n",
              "19                                   79789.54  "
            ],
            "text/html": [
              "\n",
              "  <div id=\"df-fb56005e-a261-47f6-8a90-2a06a1e4cfa2\">\n",
              "    <div class=\"colab-df-container\">\n",
              "      <div>\n",
              "<style scoped>\n",
              "    .dataframe tbody tr th:only-of-type {\n",
              "        vertical-align: middle;\n",
              "    }\n",
              "\n",
              "    .dataframe tbody tr th {\n",
              "        vertical-align: top;\n",
              "    }\n",
              "\n",
              "    .dataframe thead th {\n",
              "        text-align: right;\n",
              "    }\n",
              "</style>\n",
              "<table border=\"1\" class=\"dataframe\">\n",
              "  <thead>\n",
              "    <tr style=\"text-align: right;\">\n",
              "      <th></th>\n",
              "      <th>S.No.</th>\n",
              "      <th>Name of the State</th>\n",
              "      <th>2019-20 (Rs. in crores)</th>\n",
              "      <th>2020-21 (Rs. in crores)</th>\n",
              "      <th>2021-22 (as on 31.03.2022)(Rs. in crores)</th>\n",
              "    </tr>\n",
              "  </thead>\n",
              "  <tbody>\n",
              "    <tr>\n",
              "      <th>0</th>\n",
              "      <td>1.0</td>\n",
              "      <td>Andhra Pradesh</td>\n",
              "      <td>7404.42</td>\n",
              "      <td>8424.72</td>\n",
              "      <td>9323.38</td>\n",
              "    </tr>\n",
              "    <tr>\n",
              "      <th>1</th>\n",
              "      <td>2.0</td>\n",
              "      <td>Bihar</td>\n",
              "      <td>2535.71</td>\n",
              "      <td>4117.33</td>\n",
              "      <td>7671.90</td>\n",
              "    </tr>\n",
              "    <tr>\n",
              "      <th>2</th>\n",
              "      <td>3.0</td>\n",
              "      <td>Chhattisgarh</td>\n",
              "      <td>4628.11</td>\n",
              "      <td>7193.13</td>\n",
              "      <td>9047.77</td>\n",
              "    </tr>\n",
              "    <tr>\n",
              "      <th>3</th>\n",
              "      <td>4.0</td>\n",
              "      <td>Gujarat</td>\n",
              "      <td>69.03</td>\n",
              "      <td>9.24</td>\n",
              "      <td>749.43</td>\n",
              "    </tr>\n",
              "    <tr>\n",
              "      <th>4</th>\n",
              "      <td>5.0</td>\n",
              "      <td>Karnataka</td>\n",
              "      <td>205.79</td>\n",
              "      <td>323.99</td>\n",
              "      <td>1682.12</td>\n",
              "    </tr>\n",
              "    <tr>\n",
              "      <th>5</th>\n",
              "      <td>6.0</td>\n",
              "      <td>Kerala</td>\n",
              "      <td>469.30</td>\n",
              "      <td>1214.98</td>\n",
              "      <td>1777.86</td>\n",
              "    </tr>\n",
              "    <tr>\n",
              "      <th>6</th>\n",
              "      <td>7.0</td>\n",
              "      <td>Madhya Pradesh</td>\n",
              "      <td>8888.39</td>\n",
              "      <td>11946.44</td>\n",
              "      <td>14420.62</td>\n",
              "    </tr>\n",
              "    <tr>\n",
              "      <th>7</th>\n",
              "      <td>8.0</td>\n",
              "      <td>Maharashtra</td>\n",
              "      <td>1920.17</td>\n",
              "      <td>2555.74</td>\n",
              "      <td>4082.07</td>\n",
              "    </tr>\n",
              "    <tr>\n",
              "      <th>8</th>\n",
              "      <td>9.0</td>\n",
              "      <td>Odisha</td>\n",
              "      <td>5807.45</td>\n",
              "      <td>8985.73</td>\n",
              "      <td>7892.69</td>\n",
              "    </tr>\n",
              "    <tr>\n",
              "      <th>9</th>\n",
              "      <td>10.0</td>\n",
              "      <td>Punjab</td>\n",
              "      <td>1612.09</td>\n",
              "      <td>1761.53</td>\n",
              "      <td>2047.53</td>\n",
              "    </tr>\n",
              "    <tr>\n",
              "      <th>10</th>\n",
              "      <td>11.0</td>\n",
              "      <td>Rajasthan</td>\n",
              "      <td>0.00</td>\n",
              "      <td>0.00</td>\n",
              "      <td>0.00</td>\n",
              "    </tr>\n",
              "    <tr>\n",
              "      <th>11</th>\n",
              "      <td>12.0</td>\n",
              "      <td>Tamil Nadu</td>\n",
              "      <td>3242.79</td>\n",
              "      <td>3109.76</td>\n",
              "      <td>6250.93</td>\n",
              "    </tr>\n",
              "    <tr>\n",
              "      <th>12</th>\n",
              "      <td>13.0</td>\n",
              "      <td>Telangana</td>\n",
              "      <td>4858.89</td>\n",
              "      <td>6879.59</td>\n",
              "      <td>7665.02</td>\n",
              "    </tr>\n",
              "    <tr>\n",
              "      <th>13</th>\n",
              "      <td>14.0</td>\n",
              "      <td>Uttar Pradesh</td>\n",
              "      <td>0.00</td>\n",
              "      <td>0.00</td>\n",
              "      <td>0.00</td>\n",
              "    </tr>\n",
              "    <tr>\n",
              "      <th>14</th>\n",
              "      <td>15.0</td>\n",
              "      <td>Uttarakhand</td>\n",
              "      <td>903.12</td>\n",
              "      <td>1371.33</td>\n",
              "      <td>1554.43</td>\n",
              "    </tr>\n",
              "    <tr>\n",
              "      <th>15</th>\n",
              "      <td>16.0</td>\n",
              "      <td>West Bengal</td>\n",
              "      <td>2194.86</td>\n",
              "      <td>8792.03</td>\n",
              "      <td>5421.34</td>\n",
              "    </tr>\n",
              "    <tr>\n",
              "      <th>16</th>\n",
              "      <td>17.0</td>\n",
              "      <td>Jharkhand</td>\n",
              "      <td>0.00</td>\n",
              "      <td>3.66</td>\n",
              "      <td>0.00</td>\n",
              "    </tr>\n",
              "    <tr>\n",
              "      <th>17</th>\n",
              "      <td>18.0</td>\n",
              "      <td>Tripura</td>\n",
              "      <td>0.00</td>\n",
              "      <td>29.79</td>\n",
              "      <td>15.58</td>\n",
              "    </tr>\n",
              "    <tr>\n",
              "      <th>18</th>\n",
              "      <td>19.0</td>\n",
              "      <td>DBT</td>\n",
              "      <td>204.24</td>\n",
              "      <td>182.78</td>\n",
              "      <td>186.87</td>\n",
              "    </tr>\n",
              "    <tr>\n",
              "      <th>19</th>\n",
              "      <td>20.0</td>\n",
              "      <td>Total</td>\n",
              "      <td>44944.36</td>\n",
              "      <td>66901.77</td>\n",
              "      <td>79789.54</td>\n",
              "    </tr>\n",
              "  </tbody>\n",
              "</table>\n",
              "</div>\n",
              "      <button class=\"colab-df-convert\" onclick=\"convertToInteractive('df-fb56005e-a261-47f6-8a90-2a06a1e4cfa2')\"\n",
              "              title=\"Convert this dataframe to an interactive table.\"\n",
              "              style=\"display:none;\">\n",
              "        \n",
              "  <svg xmlns=\"http://www.w3.org/2000/svg\" height=\"24px\"viewBox=\"0 0 24 24\"\n",
              "       width=\"24px\">\n",
              "    <path d=\"M0 0h24v24H0V0z\" fill=\"none\"/>\n",
              "    <path d=\"M18.56 5.44l.94 2.06.94-2.06 2.06-.94-2.06-.94-.94-2.06-.94 2.06-2.06.94zm-11 1L8.5 8.5l.94-2.06 2.06-.94-2.06-.94L8.5 2.5l-.94 2.06-2.06.94zm10 10l.94 2.06.94-2.06 2.06-.94-2.06-.94-.94-2.06-.94 2.06-2.06.94z\"/><path d=\"M17.41 7.96l-1.37-1.37c-.4-.4-.92-.59-1.43-.59-.52 0-1.04.2-1.43.59L10.3 9.45l-7.72 7.72c-.78.78-.78 2.05 0 2.83L4 21.41c.39.39.9.59 1.41.59.51 0 1.02-.2 1.41-.59l7.78-7.78 2.81-2.81c.8-.78.8-2.07 0-2.86zM5.41 20L4 18.59l7.72-7.72 1.47 1.35L5.41 20z\"/>\n",
              "  </svg>\n",
              "      </button>\n",
              "      \n",
              "  <style>\n",
              "    .colab-df-container {\n",
              "      display:flex;\n",
              "      flex-wrap:wrap;\n",
              "      gap: 12px;\n",
              "    }\n",
              "\n",
              "    .colab-df-convert {\n",
              "      background-color: #E8F0FE;\n",
              "      border: none;\n",
              "      border-radius: 50%;\n",
              "      cursor: pointer;\n",
              "      display: none;\n",
              "      fill: #1967D2;\n",
              "      height: 32px;\n",
              "      padding: 0 0 0 0;\n",
              "      width: 32px;\n",
              "    }\n",
              "\n",
              "    .colab-df-convert:hover {\n",
              "      background-color: #E2EBFA;\n",
              "      box-shadow: 0px 1px 2px rgba(60, 64, 67, 0.3), 0px 1px 3px 1px rgba(60, 64, 67, 0.15);\n",
              "      fill: #174EA6;\n",
              "    }\n",
              "\n",
              "    [theme=dark] .colab-df-convert {\n",
              "      background-color: #3B4455;\n",
              "      fill: #D2E3FC;\n",
              "    }\n",
              "\n",
              "    [theme=dark] .colab-df-convert:hover {\n",
              "      background-color: #434B5C;\n",
              "      box-shadow: 0px 1px 3px 1px rgba(0, 0, 0, 0.15);\n",
              "      filter: drop-shadow(0px 1px 2px rgba(0, 0, 0, 0.3));\n",
              "      fill: #FFFFFF;\n",
              "    }\n",
              "  </style>\n",
              "\n",
              "      <script>\n",
              "        const buttonEl =\n",
              "          document.querySelector('#df-fb56005e-a261-47f6-8a90-2a06a1e4cfa2 button.colab-df-convert');\n",
              "        buttonEl.style.display =\n",
              "          google.colab.kernel.accessAllowed ? 'block' : 'none';\n",
              "\n",
              "        async function convertToInteractive(key) {\n",
              "          const element = document.querySelector('#df-fb56005e-a261-47f6-8a90-2a06a1e4cfa2');\n",
              "          const dataTable =\n",
              "            await google.colab.kernel.invokeFunction('convertToInteractive',\n",
              "                                                     [key], {});\n",
              "          if (!dataTable) return;\n",
              "\n",
              "          const docLinkHtml = 'Like what you see? Visit the ' +\n",
              "            '<a target=\"_blank\" href=https://colab.research.google.com/notebooks/data_table.ipynb>data table notebook</a>'\n",
              "            + ' to learn more about interactive tables.';\n",
              "          element.innerHTML = '';\n",
              "          dataTable['output_type'] = 'display_data';\n",
              "          await google.colab.output.renderOutput(dataTable, element);\n",
              "          const docLink = document.createElement('div');\n",
              "          docLink.innerHTML = docLinkHtml;\n",
              "          element.appendChild(docLink);\n",
              "        }\n",
              "      </script>\n",
              "    </div>\n",
              "  </div>\n",
              "  "
            ]
          },
          "metadata": {},
          "execution_count": 43
        }
      ]
    },
    {
      "cell_type": "code",
      "source": [
        "y"
      ],
      "metadata": {
        "colab": {
          "base_uri": "https://localhost:8080/"
        },
        "id": "nvJv2tS_qYyd",
        "outputId": "7fbde8a5-abd3-4c20-88a1-51ea7916a056"
      },
      "execution_count": 44,
      "outputs": [
        {
          "output_type": "execute_result",
          "data": {
            "text/plain": [
              "0      9323.38\n",
              "1      7671.90\n",
              "2      9047.77\n",
              "3       749.43\n",
              "4      1682.12\n",
              "5      1777.86\n",
              "6     14420.62\n",
              "7      4082.07\n",
              "8      7892.69\n",
              "9      2047.53\n",
              "10        0.00\n",
              "11     6250.93\n",
              "12     7665.02\n",
              "13        0.00\n",
              "14     1554.43\n",
              "15     5421.34\n",
              "16        0.00\n",
              "17       15.58\n",
              "18      186.87\n",
              "19    79789.54\n",
              "Name: 2021-22 (as on 31.03.2022)(Rs. in crores), dtype: float64"
            ]
          },
          "metadata": {},
          "execution_count": 44
        }
      ]
    },
    {
      "cell_type": "code",
      "source": [
        "# Test the model\n",
        "y_pred = model.predict(X_test)\n"
      ],
      "metadata": {
        "id": "4K1k2mD3gP42"
      },
      "execution_count": 77,
      "outputs": []
    },
    {
      "cell_type": "code",
      "source": [
        "# Print the model's performance metrics\n",
        "print(\"Model R-squared:\", model.score(X_test, y_test))\n",
        "print(\"Model coefficients:\", model.coef_)\n",
        "print(\"Model intercept:\", model.intercept_)\n"
      ],
      "metadata": {
        "colab": {
          "base_uri": "https://localhost:8080/"
        },
        "id": "cBce6X_PgRnf",
        "outputId": "1204c7d7-f175-473f-9f8e-fb43d8c83951"
      },
      "execution_count": 78,
      "outputs": [
        {
          "output_type": "stream",
          "name": "stdout",
          "text": [
            "Model R-squared: 1.0\n",
            "Model coefficients: [ 8.60590094e-16 -1.11022302e-16  1.00000000e+00]\n",
            "Model intercept: 1.8189894035458565e-12\n"
          ]
        }
      ]
    },
    {
      "cell_type": "code",
      "source": [
        "# Predict the value for the year 2023-24\n",
        "predicted_value = model.predict([[2019, 2020, 2021]])\n",
        "print(\"Predicted value for 2023-24:\", predicted_value[0])\n",
        "print(predicted_value)\n"
      ],
      "metadata": {
        "colab": {
          "base_uri": "https://localhost:8080/"
        },
        "id": "R6RgVKS8jqWR",
        "outputId": "7c2a68c4-be27-43b6-9b23-eb2b33e0ca89"
      },
      "execution_count": 85,
      "outputs": [
        {
          "output_type": "stream",
          "name": "stdout",
          "text": [
            "Predicted value for 2023-24: 2021.0000000000023\n",
            "[2021.]\n"
          ]
        },
        {
          "output_type": "stream",
          "name": "stderr",
          "text": [
            "/usr/local/lib/python3.8/dist-packages/sklearn/base.py:420: UserWarning: X does not have valid feature names, but LinearRegression was fitted with feature names\n",
            "  warnings.warn(\n"
          ]
        }
      ]
    },
    {
      "cell_type": "code",
      "source": [
        "sns.regplot(y='2019-20 (Rs. in crores)',x='2020-21 (Rs. in crores)',data=df)"
      ],
      "metadata": {
        "colab": {
          "base_uri": "https://localhost:8080/",
          "height": 296
        },
        "id": "8WcSK76yjt08",
        "outputId": "47dcca65-0b64-4450-9fa6-6b0f13750135"
      },
      "execution_count": 71,
      "outputs": [
        {
          "output_type": "execute_result",
          "data": {
            "text/plain": [
              "<AxesSubplot:xlabel='2020-21 (Rs. in crores)', ylabel='2019-20 (Rs. in crores)'>"
            ]
          },
          "metadata": {},
          "execution_count": 71
        },
        {
          "output_type": "display_data",
          "data": {
            "text/plain": [
              "<Figure size 432x288 with 1 Axes>"
            ],
            "image/png": "[encoded data removed]"
          },
          "metadata": {
            "needs_background": "light"
          }
        }
      ]
    },
    {
      "cell_type": "code",
      "source": [
        "sns.regplot(y='2019-20 (Rs. in crores)',x='2021-22 (as on 31.03.2022)(Rs. in crores)',data=df)"
      ],
      "metadata": {
        "colab": {
          "base_uri": "https://localhost:8080/",
          "height": 296
        },
        "id": "nfBl67X_oAmo",
        "outputId": "50f5a28b-3cb3-424f-e6ca-fe3b5929ba30"
      },
      "execution_count": 81,
      "outputs": [
        {
          "output_type": "execute_result",
          "data": {
            "text/plain": [
              "<AxesSubplot:xlabel='2021-22 (as on 31.03.2022)(Rs. in crores)', ylabel='2019-20 (Rs. in crores)'>"
            ]
          },
          "metadata": {},
          "execution_count": 81
        },
        {
          "output_type": "display_data",
          "data": {
            "text/plain": [
              "<Figure size 432x288 with 1 Axes>"
            ],
            "image/png": "[encoded data removed]"
          },
          "metadata": {
            "needs_background": "light"
          }
        }
      ]
    },
    {
      "cell_type": "code",
      "source": [
        "sns.regplot(y='2020-21 (Rs. in crores)',x='2021-22 (as on 31.03.2022)(Rs. in crores)',data=df)"
      ],
      "metadata": {
        "colab": {
          "base_uri": "https://localhost:8080/",
          "height": 296
        },
        "id": "W7wmGJwV1WIf",
        "outputId": "8e071a86-9050-4e3e-ce9f-d523192dbf8c"
      },
      "execution_count": 82,
      "outputs": [
        {
          "output_type": "execute_result",
          "data": {
            "text/plain": [
              "<AxesSubplot:xlabel='2021-22 (as on 31.03.2022)(Rs. in crores)', ylabel='2020-21 (Rs. in crores)'>"
            ]
          },
          "metadata": {},
          "execution_count": 82
        },
        {
          "output_type": "display_data",
          "data": {
            "text/plain": [
              "<Figure size 432x288 with 1 Axes>"
            ],
            "image/png": "[encoded data removed]"
          },
          "metadata": {
            "needs_background": "light"
          }
        }
      ]
    },
    {
      "cell_type": "code",
      "source": [
        "X= df.iloc[:, [3,4]].values"
      ],
      "metadata": {
        "id": "hq_A_TXv10RL"
      },
      "execution_count": 87,
      "outputs": []
    },
    {
      "cell_type": "code",
      "source": [
        "from sklearn.cluster import KMeans\n",
        "wcss=[]\n",
        "\n",
        "for i in range(1,11):\n",
        "    kmeans = KMeans(n_clusters= i, init='k-means++', random_state=0)\n",
        "    kmeans.fit(X)\n",
        "    wcss.append(kmeans.inertia_)"
      ],
      "metadata": {
        "colab": {
          "base_uri": "https://localhost:8080/"
        },
        "id": "8cCMO7VI4obP",
        "outputId": "7de3ac17-d578-4a5f-e363-b9610d76a433"
      },
      "execution_count": 88,
      "outputs": [
        {
          "output_type": "stream",
          "name": "stderr",
          "text": [
            "/usr/local/lib/python3.8/dist-packages/sklearn/cluster/_kmeans.py:870: FutureWarning: The default value of `n_init` will change from 10 to 'auto' in 1.4. Set the value of `n_init` explicitly to suppress the warning\n",
            "  warnings.warn(\n",
            "/usr/local/lib/python3.8/dist-packages/sklearn/cluster/_kmeans.py:870: FutureWarning: The default value of `n_init` will change from 10 to 'auto' in 1.4. Set the value of `n_init` explicitly to suppress the warning\n",
            "  warnings.warn(\n",
            "/usr/local/lib/python3.8/dist-packages/sklearn/cluster/_kmeans.py:870: FutureWarning: The default value of `n_init` will change from 10 to 'auto' in 1.4. Set the value of `n_init` explicitly to suppress the warning\n",
            "  warnings.warn(\n",
            "/usr/local/lib/python3.8/dist-packages/sklearn/cluster/_kmeans.py:870: FutureWarning: The default value of `n_init` will change from 10 to 'auto' in 1.4. Set the value of `n_init` explicitly to suppress the warning\n",
            "  warnings.warn(\n",
            "/usr/local/lib/python3.8/dist-packages/sklearn/cluster/_kmeans.py:870: FutureWarning: The default value of `n_init` will change from 10 to 'auto' in 1.4. Set the value of `n_init` explicitly to suppress the warning\n",
            "  warnings.warn(\n",
            "/usr/local/lib/python3.8/dist-packages/sklearn/cluster/_kmeans.py:870: FutureWarning: The default value of `n_init` will change from 10 to 'auto' in 1.4. Set the value of `n_init` explicitly to suppress the warning\n",
            "  warnings.warn(\n",
            "/usr/local/lib/python3.8/dist-packages/sklearn/cluster/_kmeans.py:870: FutureWarning: The default value of `n_init` will change from 10 to 'auto' in 1.4. Set the value of `n_init` explicitly to suppress the warning\n",
            "  warnings.warn(\n",
            "/usr/local/lib/python3.8/dist-packages/sklearn/cluster/_kmeans.py:870: FutureWarning: The default value of `n_init` will change from 10 to 'auto' in 1.4. Set the value of `n_init` explicitly to suppress the warning\n",
            "  warnings.warn(\n",
            "/usr/local/lib/python3.8/dist-packages/sklearn/cluster/_kmeans.py:870: FutureWarning: The default value of `n_init` will change from 10 to 'auto' in 1.4. Set the value of `n_init` explicitly to suppress the warning\n",
            "  warnings.warn(\n",
            "/usr/local/lib/python3.8/dist-packages/sklearn/cluster/_kmeans.py:870: FutureWarning: The default value of `n_init` will change from 10 to 'auto' in 1.4. Set the value of `n_init` explicitly to suppress the warning\n",
            "  warnings.warn(\n"
          ]
        }
      ]
    },
    {
      "cell_type": "code",
      "source": [
        "#Visualizing the ELBOW method to get the optimal value of K \n",
        "plt.plot(range(1,11), wcss)\n",
        "plt.title('The Elbow Method')\n",
        "plt.xlabel('no of clusters')\n",
        "plt.ylabel('wcss')\n",
        "plt.show()"
      ],
      "metadata": {
        "colab": {
          "base_uri": "https://localhost:8080/",
          "height": 295
        },
        "id": "d4fa--YV4u3K",
        "outputId": "05289069-5ea8-4010-d0d2-46e32fc9e0d7"
      },
      "execution_count": 89,
      "outputs": [
        {
          "output_type": "display_data",
          "data": {
            "text/plain": [
              "<Figure size 432x288 with 1 Axes>"
            ],
            "image/png": "[encoded data removed]"
          },
          "metadata": {
            "needs_background": "light"
          }
        }
      ]
    },
    {
      "cell_type": "code",
      "source": [
        "#Model Build\n",
        "kmeansmodel = KMeans(n_clusters= 5, init='k-means++', random_state=0)\n",
        "y_kmeans= kmeansmodel.fit_predict(X)\n"
      ],
      "metadata": {
        "colab": {
          "base_uri": "https://localhost:8080/"
        },
        "id": "7cenRAGf4yjB",
        "outputId": "36dc1e9d-cd79-40cb-d4f2-a2cb62910193"
      },
      "execution_count": 90,
      "outputs": [
        {
          "output_type": "stream",
          "name": "stderr",
          "text": [
            "/usr/local/lib/python3.8/dist-packages/sklearn/cluster/_kmeans.py:870: FutureWarning: The default value of `n_init` will change from 10 to 'auto' in 1.4. Set the value of `n_init` explicitly to suppress the warning\n",
            "  warnings.warn(\n"
          ]
        }
      ]
    },
    {
      "cell_type": "code",
      "source": [
        "#Visualizing all the clusters \n",
        "\n",
        "plt.scatter(X[y_kmeans == 0, 0], X[y_kmeans == 0, 1], s = 100, c = 'red', label = 'Cluster 1')\n",
        "plt.scatter(X[y_kmeans == 1, 0], X[y_kmeans == 1, 1], s = 100, c = 'blue', label = 'Cluster 2')\n",
        "plt.scatter(X[y_kmeans == 2, 0], X[y_kmeans == 2, 1], s = 100, c = 'green', label = 'Cluster 3')\n",
        "plt.scatter(X[y_kmeans == 3, 0], X[y_kmeans == 3, 1], s = 100, c = 'cyan', label = 'Cluster 4')\n",
        "plt.scatter(X[y_kmeans == 4, 0], X[y_kmeans == 4, 1], s = 100, c = 'magenta', label = 'Cluster 5')\n",
        "plt.scatter(kmeans.cluster_centers_[:, 0], kmeans.cluster_centers_[:, 1], s = 300, c = 'yellow', label = 'Centroids')\n",
        "plt.title('Clusters of customers')\n",
        "plt.xlabel('Annual Income (k$)')\n",
        "plt.ylabel('Spending Score (1-100)')\n",
        "plt.legend()\n",
        "plt.show()"
      ],
      "metadata": {
        "colab": {
          "base_uri": "https://localhost:8080/",
          "height": 295
        },
        "id": "gtcGO4U04024",
        "outputId": "70b25b2b-3dcb-4e67-9a6f-78a75a87133b"
      },
      "execution_count": 91,
      "outputs": [
        {
          "output_type": "display_data",
          "data": {
            "text/plain": [
              "<Figure size 432x288 with 1 Axes>"
            ],
            "image/png": "[encoded data removed]"
          },
          "metadata": {
            "needs_background": "light"
          }
        }
      ]
    },
    {
      "cell_type": "code",
      "source": [],
      "metadata": {
        "id": "JqIg4Ni75G7X"
      },
      "execution_count": null,
      "outputs": []
    }
  ]
}